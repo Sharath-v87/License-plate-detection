{
 "cells": [
  {
   "cell_type": "markdown",
   "id": "3986f1c0",
   "metadata": {},
   "source": [
    "## The directories for various files is created using the following code\n",
    "\n",
    "#### Here, the model that is used is a pretrained model fetched from tensorflow2 model zoo which has many kinds of object detection models. Out of various types of models, ssd mobilenet v2 fpn lite 320x320 is chosen by taking into account its speed (22ms) and accuracy (22.2 mAP). "
   ]
  },
  {
   "cell_type": "code",
   "execution_count": 1,
   "id": "161e47d5",
   "metadata": {},
   "outputs": [],
   "source": [
    "import os"
   ]
  },
  {
   "cell_type": "code",
   "execution_count": 2,
   "id": "dbd72710",
   "metadata": {},
   "outputs": [],
   "source": [
    "CUSTOM_MODEL_NAME = 'my_ssd_mobnet' \n",
    "PRETRAINED_MODEL_NAME = 'ssd_mobilenet_v2_fpnlite_320x320_coco17_tpu-8'\n",
    "PRETRAINED_MODEL_URL = 'http://download.tensorflow.org/models/object_detection/tf2/20200711/ssd_mobilenet_v2_fpnlite_320x320_coco17_tpu-8.tar.gz'\n",
    "TF_RECORD_SCRIPT_NAME = 'generate_tfrecord.py'\n",
    "LABEL_MAP_NAME = 'label_map.pbtxt'"
   ]
  },
  {
   "cell_type": "code",
   "execution_count": 3,
   "id": "f749e23d",
   "metadata": {},
   "outputs": [],
   "source": [
    "paths = {\n",
    "    'WORKSPACE_PATH': os.path.join('Tensorflow', 'workspace'),\n",
    "    'SCRIPTS_PATH': os.path.join('Tensorflow','scripts'),\n",
    "    'APIMODEL_PATH': os.path.join('Tensorflow','models'),\n",
    "    'ANNOTATION_PATH': os.path.join('Tensorflow', 'workspace','annotations'),\n",
    "    'IMAGE_PATH': os.path.join('Tensorflow', 'workspace','images'),\n",
    "    'MODEL_PATH': os.path.join('Tensorflow', 'workspace','models'),\n",
    "    'PRETRAINED_MODEL_PATH': os.path.join('Tensorflow', 'workspace','pre-trained-models'),\n",
    "    'CHECKPOINT_PATH': os.path.join('Tensorflow', 'workspace','models',CUSTOM_MODEL_NAME), \n",
    "    'OUTPUT_PATH': os.path.join('Tensorflow', 'workspace','models',CUSTOM_MODEL_NAME, 'export'), \n",
    "    'TFJS_PATH':os.path.join('Tensorflow', 'workspace','models',CUSTOM_MODEL_NAME, 'tfjsexport'), \n",
    "    'TFLITE_PATH':os.path.join('Tensorflow', 'workspace','models',CUSTOM_MODEL_NAME, 'tfliteexport'), \n",
    "    'PROTOC_PATH':os.path.join('Tensorflow','protoc')\n",
    " }"
   ]
  },
  {
   "cell_type": "code",
   "execution_count": 4,
   "id": "792522c0",
   "metadata": {},
   "outputs": [],
   "source": [
    "files = {\n",
    "    'PIPELINE_CONFIG':os.path.join('Tensorflow', 'workspace','models', CUSTOM_MODEL_NAME, 'pipeline.config'),\n",
    "    'TF_RECORD_SCRIPT': os.path.join(paths['SCRIPTS_PATH'], TF_RECORD_SCRIPT_NAME), \n",
    "    'LABELMAP': os.path.join(paths['ANNOTATION_PATH'], LABEL_MAP_NAME)\n",
    "}"
   ]
  },
  {
   "cell_type": "code",
   "execution_count": null,
   "id": "a41ed4b8",
   "metadata": {},
   "outputs": [],
   "source": [
    "for path in paths.values():\n",
    "    if not os.path.exists(path):\n",
    "        !mkdir -p {path}"
   ]
  },
  {
   "cell_type": "markdown",
   "id": "c2161902",
   "metadata": {},
   "source": [
    "#### we are cloning the tensorflow repo consisting of all the models"
   ]
  },
  {
   "cell_type": "code",
   "execution_count": null,
   "id": "073b33cb",
   "metadata": {},
   "outputs": [],
   "source": [
    "if not os.path.exists(os.path.join(paths['APIMODEL_PATH'], 'research', 'object_detection')):\n",
    "    !git clone https://github.com/tensorflow/models {paths['APIMODEL_PATH']}"
   ]
  },
  {
   "cell_type": "markdown",
   "id": "e6ef27dc",
   "metadata": {},
   "source": [
    "#### Now by running the following command, tensorflow's object detection model will be installed"
   ]
  },
  {
   "cell_type": "code",
   "execution_count": 1,
   "id": "96244b24",
   "metadata": {},
   "outputs": [
    {
     "name": "stdout",
     "output_type": "stream",
     "text": [
      "Processing /Users/sharath/Desktop/TFODCourse/Tensorflow/models/research\n",
      "\u001b[33m  DEPRECATION: A future pip version will change local packages to be built in-place without first copying to a temporary directory. We recommend you use --use-feature=in-tree-build to test your packages with this new behavior before it becomes the default.\n",
      "   pip 21.3 will remove support for this functionality. You can find discussion regarding this at https://github.com/pypa/pip/issues/7555.\u001b[0m\n",
      "Collecting avro-python3\n",
      "  Using cached avro-python3-1.10.2.tar.gz (38 kB)\n",
      "Collecting apache-beam\n",
      "  Using cached apache_beam-2.32.0-py3-none-any.whl\n",
      "Collecting pillow\n",
      "  Using cached Pillow-8.3.1-cp39-cp39-macosx_10_10_x86_64.whl (2.9 MB)\n",
      "Collecting lxml\n",
      "  Using cached lxml-4.6.3-cp39-cp39-macosx_10_9_x86_64.whl (4.6 MB)\n",
      "Collecting matplotlib\n",
      "  Using cached matplotlib-3.4.3-cp39-cp39-macosx_10_9_x86_64.whl (7.2 MB)\n",
      "Collecting Cython\n",
      "  Using cached Cython-0.29.24-cp39-cp39-macosx_10_9_x86_64.whl (1.9 MB)\n",
      "Collecting contextlib2\n",
      "  Using cached contextlib2-21.6.0-py2.py3-none-any.whl (13 kB)\n",
      "^C\n",
      "\u001b[31mERROR: Operation cancelled by user\u001b[0m\n",
      "\u001b[33mWARNING: Ignoring invalid distribution -ras (/Library/Frameworks/Python.framework/Versions/3.9/lib/python3.9/site-packages)\u001b[0m\n",
      "\u001b[33mWARNING: Ignoring invalid distribution -ras (/Library/Frameworks/Python.framework/Versions/3.9/lib/python3.9/site-packages)\u001b[0m\n",
      "\u001b[33mWARNING: Ignoring invalid distribution - (/Library/Frameworks/Python.framework/Versions/3.9/lib/python3.9/site-packages)\u001b[0m\n",
      "\u001b[33mWARNING: Ignoring invalid distribution -eras (/Library/Frameworks/Python.framework/Versions/3.9/lib/python3.9/site-packages)\u001b[0m\n",
      "\u001b[33mWARNING: Ignoring invalid distribution -ras (/Library/Frameworks/Python.framework/Versions/3.9/lib/python3.9/site-packages)\u001b[0m\n",
      "\u001b[33mWARNING: Ignoring invalid distribution -ras (/Library/Frameworks/Python.framework/Versions/3.9/lib/python3.9/site-packages)\u001b[0m\n",
      "\u001b[33mWARNING: Ignoring invalid distribution - (/Library/Frameworks/Python.framework/Versions/3.9/lib/python3.9/site-packages)\u001b[0m\n",
      "\u001b[33mWARNING: Ignoring invalid distribution -eras (/Library/Frameworks/Python.framework/Versions/3.9/lib/python3.9/site-packages)\u001b[0m\n",
      "\u001b[33mWARNING: You are using pip version 21.1.3; however, version 21.2.4 is available.\n",
      "You should consider upgrading via the '/Library/Frameworks/Python.framework/Versions/3.9/bin/python3 -m pip install --upgrade pip' command.\u001b[0m\n"
     ]
    }
   ],
   "source": [
    "!cd Tensorflow/models/research && protoc object_detection/protos/*.proto --python_out=. && cp object_detection/packages/tf2/setup.py . && python3 -m pip install -I --user ."
   ]
  },
  {
   "cell_type": "markdown",
   "id": "738df403",
   "metadata": {},
   "source": [
    "#### Now that object detection model can be imported"
   ]
  },
  {
   "cell_type": "code",
   "execution_count": 5,
   "id": "0adcc007",
   "metadata": {},
   "outputs": [],
   "source": [
    "import object_detection"
   ]
  },
  {
   "cell_type": "markdown",
   "id": "d2e4e745",
   "metadata": {},
   "source": [
    "#### saving the pretrained model in the allocated folder"
   ]
  },
  {
   "cell_type": "code",
   "execution_count": null,
   "id": "9ca200be",
   "metadata": {},
   "outputs": [],
   "source": [
    "!wget {PRETRAINED_MODEL_URL}\n",
    "!mv {PRETRAINED_MODEL_NAME+'.tar.gz'} {paths['PRETRAINED_MODEL_PATH']}\n",
    "!cd {paths['PRETRAINED_MODEL_PATH']} && tar -zxvf {PRETRAINED_MODEL_NAME+'.tar.gz'}"
   ]
  },
  {
   "cell_type": "markdown",
   "id": "224fc8fa",
   "metadata": {},
   "source": [
    "#### This segment creates a label map"
   ]
  },
  {
   "cell_type": "code",
   "execution_count": null,
   "id": "f6714d75",
   "metadata": {},
   "outputs": [],
   "source": [
    "labels = [{'name':'licence', 'id':1}]\n",
    "with open(files['LABELMAP'], 'w') as f:\n",
    "    for label in labels:\n",
    "        f.write('item { \\n')\n",
    "        f.write('\\tname:\\'{}\\'\\n'.format(label['name']))\n",
    "        f.write('\\tid:{}\\n'.format(label['id']))\n",
    "        f.write('}\\n')"
   ]
  },
  {
   "cell_type": "markdown",
   "id": "3fff1ca6",
   "metadata": {},
   "source": [
    "#### The following commands converts the test and train data into the tensorflow record format that could be used in the model"
   ]
  },
  {
   "cell_type": "code",
   "execution_count": null,
   "id": "964a66ac",
   "metadata": {},
   "outputs": [],
   "source": [
    "!git clone https://github.com/nicknochnack/GenerateTFRecord {paths['SCRIPTS_PATH']}"
   ]
  },
  {
   "cell_type": "code",
   "execution_count": null,
   "id": "88d694a3",
   "metadata": {},
   "outputs": [],
   "source": [
    "!python3 {files['TF_RECORD_SCRIPT']} -x {os.path.join(paths['IMAGE_PATH'], 'train')} -l {files['LABELMAP']} -o {os.path.join(paths['ANNOTATION_PATH'], 'train.record')} \n",
    "!python3 {files['TF_RECORD_SCRIPT']} -x {os.path.join(paths['IMAGE_PATH'], 'test')} -l {files['LABELMAP']} -o {os.path.join(paths['ANNOTATION_PATH'], 'test.record')} "
   ]
  },
  {
   "cell_type": "markdown",
   "id": "4908b8ff",
   "metadata": {},
   "source": [
    "#### By running the following command, we get a pipeline config file which contains the configurations for the model that could be finetuned as per our needs"
   ]
  },
  {
   "cell_type": "code",
   "execution_count": null,
   "id": "1b34640a",
   "metadata": {},
   "outputs": [],
   "source": [
    "!cp {os.path.join(paths['PRETRAINED_MODEL_PATH'], PRETRAINED_MODEL_NAME, 'pipeline.config')} {os.path.join(paths['CHECKPOINT_PATH'])}"
   ]
  },
  {
   "cell_type": "markdown",
   "id": "f95638c2",
   "metadata": {},
   "source": [
    "#### In this section, the following code finetunes the pipeline.config file according to our specifications"
   ]
  },
  {
   "cell_type": "code",
   "execution_count": null,
   "id": "254836cd",
   "metadata": {},
   "outputs": [],
   "source": [
    "import tensorflow as tf\n",
    "from object_detection.utils import config_util\n",
    "from object_detection.protos import pipeline_pb2\n",
    "from google.protobuf import text_format"
   ]
  },
  {
   "cell_type": "code",
   "execution_count": null,
   "id": "b162a689",
   "metadata": {},
   "outputs": [],
   "source": [
    "config = config_util.get_configs_from_pipeline_file(files['PIPELINE_CONFIG'])"
   ]
  },
  {
   "cell_type": "code",
   "execution_count": null,
   "id": "33ed99fc",
   "metadata": {},
   "outputs": [],
   "source": [
    "pipeline_config = pipeline_pb2.TrainEvalPipelineConfig()\n",
    "with tf.io.gfile.GFile(files['PIPELINE_CONFIG'], \"r\") as f:                                                                                                                                                                                                                     \n",
    "    proto_str = f.read()                                                                                                                                                                                                                                          \n",
    "    text_format.Merge(proto_str, pipeline_config)  "
   ]
  },
  {
   "cell_type": "code",
   "execution_count": null,
   "id": "1d2103b0",
   "metadata": {},
   "outputs": [],
   "source": [
    "pipeline_config.model.ssd.num_classes = len(labels)\n",
    "pipeline_config.train_config.batch_size = 4\n",
    "pipeline_config.train_config.fine_tune_checkpoint = os.path.join(paths['PRETRAINED_MODEL_PATH'], PRETRAINED_MODEL_NAME, 'checkpoint', 'ckpt-0')\n",
    "pipeline_config.train_config.fine_tune_checkpoint_type = \"detection\"\n",
    "pipeline_config.train_input_reader.label_map_path= files['LABELMAP']\n",
    "pipeline_config.train_input_reader.tf_record_input_reader.input_path[:] = [os.path.join(paths['ANNOTATION_PATH'], 'train.record')]\n",
    "pipeline_config.eval_input_reader[0].label_map_path = files['LABELMAP']\n",
    "pipeline_config.eval_input_reader[0].tf_record_input_reader.input_path[:] = [os.path.join(paths['ANNOTATION_PATH'], 'test.record')]"
   ]
  },
  {
   "cell_type": "code",
   "execution_count": null,
   "id": "30d27c21",
   "metadata": {},
   "outputs": [],
   "source": [
    "config_text = text_format.MessageToString(pipeline_config)                                                                                                                                                                                                        \n",
    "with tf.io.gfile.GFile(files['PIPELINE_CONFIG'], \"wb\") as f:                                                                                                                                                                                                                     \n",
    "    f.write(config_text)   "
   ]
  },
  {
   "cell_type": "markdown",
   "id": "f60b96cf",
   "metadata": {},
   "source": [
    "#### So now we generate the command to train the model"
   ]
  },
  {
   "cell_type": "code",
   "execution_count": 5,
   "id": "3a02bc52",
   "metadata": {},
   "outputs": [
    {
     "ename": "NameError",
     "evalue": "name 'paths' is not defined",
     "output_type": "error",
     "traceback": [
      "\u001b[0;31m---------------------------------------------------------------------------\u001b[0m",
      "\u001b[0;31mNameError\u001b[0m                                 Traceback (most recent call last)",
      "\u001b[0;32m/var/folders/zl/xbdvl7157x99h81d4htcfqtm0000gn/T/ipykernel_3699/3621131491.py\u001b[0m in \u001b[0;36m<module>\u001b[0;34m\u001b[0m\n\u001b[0;32m----> 1\u001b[0;31m \u001b[0mTRAINING_SCRIPT\u001b[0m \u001b[0;34m=\u001b[0m \u001b[0mos\u001b[0m\u001b[0;34m.\u001b[0m\u001b[0mpath\u001b[0m\u001b[0;34m.\u001b[0m\u001b[0mjoin\u001b[0m\u001b[0;34m(\u001b[0m\u001b[0mpaths\u001b[0m\u001b[0;34m[\u001b[0m\u001b[0;34m'APIMODEL_PATH'\u001b[0m\u001b[0;34m]\u001b[0m\u001b[0;34m,\u001b[0m \u001b[0;34m'research'\u001b[0m\u001b[0;34m,\u001b[0m \u001b[0;34m'object_detection'\u001b[0m\u001b[0;34m,\u001b[0m \u001b[0;34m'model_main_tf2.py'\u001b[0m\u001b[0;34m)\u001b[0m\u001b[0;34m\u001b[0m\u001b[0;34m\u001b[0m\u001b[0m\n\u001b[0m",
      "\u001b[0;31mNameError\u001b[0m: name 'paths' is not defined"
     ]
    }
   ],
   "source": [
    "TRAINING_SCRIPT = os.path.join(paths['APIMODEL_PATH'], 'research', 'object_detection', 'model_main_tf2.py')"
   ]
  },
  {
   "cell_type": "code",
   "execution_count": 3,
   "id": "1eef64a9",
   "metadata": {},
   "outputs": [
    {
     "ename": "NameError",
     "evalue": "name 'TRAINING_SCRIPT' is not defined",
     "output_type": "error",
     "traceback": [
      "\u001b[0;31m---------------------------------------------------------------------------\u001b[0m",
      "\u001b[0;31mNameError\u001b[0m                                 Traceback (most recent call last)",
      "\u001b[0;32m/var/folders/zl/xbdvl7157x99h81d4htcfqtm0000gn/T/ipykernel_3699/358036625.py\u001b[0m in \u001b[0;36m<module>\u001b[0;34m\u001b[0m\n\u001b[0;32m----> 1\u001b[0;31m \u001b[0mcommand\u001b[0m \u001b[0;34m=\u001b[0m \u001b[0;34m\"python {} --model_dir={} --pipeline_config_path={} --num_train_steps=2000\"\u001b[0m\u001b[0;34m.\u001b[0m\u001b[0mformat\u001b[0m\u001b[0;34m(\u001b[0m\u001b[0mTRAINING_SCRIPT\u001b[0m\u001b[0;34m,\u001b[0m \u001b[0mpaths\u001b[0m\u001b[0;34m[\u001b[0m\u001b[0;34m'CHECKPOINT_PATH'\u001b[0m\u001b[0;34m]\u001b[0m\u001b[0;34m,\u001b[0m\u001b[0mfiles\u001b[0m\u001b[0;34m[\u001b[0m\u001b[0;34m'PIPELINE_CONFIG'\u001b[0m\u001b[0;34m]\u001b[0m\u001b[0;34m)\u001b[0m\u001b[0;34m\u001b[0m\u001b[0;34m\u001b[0m\u001b[0m\n\u001b[0m",
      "\u001b[0;31mNameError\u001b[0m: name 'TRAINING_SCRIPT' is not defined"
     ]
    }
   ],
   "source": [
    "command = \"python {} --model_dir={} --pipeline_config_path={} --num_train_steps=2000\".format(TRAINING_SCRIPT, paths['CHECKPOINT_PATH'],files['PIPELINE_CONFIG'])"
   ]
  },
  {
   "cell_type": "code",
   "execution_count": null,
   "id": "c4e03dd4",
   "metadata": {},
   "outputs": [],
   "source": [
    "print(command)"
   ]
  },
  {
   "cell_type": "markdown",
   "id": "8fc8507f",
   "metadata": {},
   "source": [
    "#### we will get the command as 'python Tensorflow/models/research/object_detection/model_main_tf2.py --model_dir=Tensorflow/workspace/models/my_ssd_mobnet --pipeline_config_path=Tensorflow/workspace/models/my_ssd_mobnet/pipeline.config --num_train_steps=2000'.\n",
    "\n",
    "#### Here the portion 'python Tensorflow/models/research/object_detection/model_main_tf2.py' specifies the model that we will be using, '--model_dir=Tensorflow/workspace/models/my_ssd_mobnet' specifies where our trained model should be saved, '--pipeline_config_path=Tensorflow/workspace/models/my_ssd_mobnet/pipeline.config' specifies the config file and '--num_train_steps=2000' specifies the number of steps , similar to epochs"
   ]
  },
  {
   "cell_type": "markdown",
   "id": "e0a2f160",
   "metadata": {},
   "source": [
    "#### Loading the model"
   ]
  },
  {
   "cell_type": "code",
   "execution_count": 6,
   "id": "7b30ef99",
   "metadata": {},
   "outputs": [],
   "source": [
    "import os\n",
    "import tensorflow as tf\n",
    "from object_detection.utils import label_map_util\n",
    "from object_detection.utils import visualization_utils as viz_utils\n",
    "from object_detection.builders import model_builder\n",
    "from object_detection.utils import config_util"
   ]
  },
  {
   "cell_type": "code",
   "execution_count": 7,
   "id": "33ebc933",
   "metadata": {},
   "outputs": [
    {
     "name": "stderr",
     "output_type": "stream",
     "text": [
      "2021-10-08 20:01:53.101665: I tensorflow/core/platform/cpu_feature_guard.cc:142] This TensorFlow binary is optimized with oneAPI Deep Neural Network Library (oneDNN) to use the following CPU instructions in performance-critical operations:  AVX2 FMA\n",
      "To enable them in other operations, rebuild TensorFlow with the appropriate compiler flags.\n"
     ]
    }
   ],
   "source": [
    "# Load pipeline config and build a detection model\n",
    "configs = config_util.get_configs_from_pipeline_file(files['PIPELINE_CONFIG'])\n",
    "detection_model = model_builder.build(model_config=configs['model'], is_training=False)\n",
    "\n",
    "# Restore checkpoint\n",
    "ckpt = tf.compat.v2.train.Checkpoint(model=detection_model)\n",
    "ckpt.restore(os.path.join(paths['CHECKPOINT_PATH'], 'ckpt-3')).expect_partial()\n",
    "\n",
    "@tf.function\n",
    "def detect_fn(image):\n",
    "    image, shapes = detection_model.preprocess(image)\n",
    "    prediction_dict = detection_model.predict(image, shapes)\n",
    "    detections = detection_model.postprocess(prediction_dict, shapes)\n",
    "    return detections"
   ]
  },
  {
   "cell_type": "markdown",
   "id": "ca6b579e",
   "metadata": {},
   "source": [
    "#### Now by giving an image of a car as the input (given in the IMAGE_PATH variable) , an output with a bounding box over the licence plate can be obtained"
   ]
  },
  {
   "cell_type": "code",
   "execution_count": 8,
   "id": "3d4a5f80",
   "metadata": {},
   "outputs": [],
   "source": [
    "import cv2 \n",
    "import numpy as np\n",
    "from matplotlib import pyplot as plt\n",
    "%matplotlib inline"
   ]
  },
  {
   "cell_type": "code",
   "execution_count": 9,
   "id": "fc214f5e",
   "metadata": {
    "scrolled": true
   },
   "outputs": [],
   "source": [
    "category_index = label_map_util.create_category_index_from_labelmap(files['LABELMAP'])"
   ]
  },
  {
   "cell_type": "code",
   "execution_count": 10,
   "id": "699d8d5c",
   "metadata": {},
   "outputs": [],
   "source": [
    "#IMAGE_PATH = os.path.join(paths['IMAGE_PATH'], 'Screenshot 2021-09-28 at 7.47.26 PM.png')\n",
    "IMAGE_PATH = '/Users/sharath/Desktop/TFODCourse/licence label/indian plates/Cars46.png'"
   ]
  },
  {
   "cell_type": "code",
   "execution_count": 11,
   "id": "f64363ed",
   "metadata": {
    "scrolled": true
   },
   "outputs": [
    {
     "name": "stderr",
     "output_type": "stream",
     "text": [
      "2021-10-08 20:03:00.691405: I tensorflow/compiler/mlir/mlir_graph_optimization_pass.cc:185] None of the MLIR Optimization Passes are enabled (registered 2)\n"
     ]
    },
    {
     "data": {
      "image/png": "[encoded data removed]",
      "text/plain": [
       "<Figure size 432x288 with 1 Axes>"
      ]
     },
     "metadata": {
      "needs_background": "light"
     },
     "output_type": "display_data"
    }
   ],
   "source": [
    "img = cv2.imread(IMAGE_PATH)\n",
    "image_np = np.array(img)\n",
    "\n",
    "input_tensor = tf.convert_to_tensor(np.expand_dims(image_np, 0), dtype=tf.float32)\n",
    "detections = detect_fn(input_tensor)\n",
    "\n",
    "num_detections = int(detections.pop('num_detections'))\n",
    "detections = {key: value[0, :num_detections].numpy()\n",
    "              for key, value in detections.items()}\n",
    "detections['num_detections'] = num_detections\n",
    "\n",
    "# detection_classes should be ints.\n",
    "detections['detection_classes'] = detections['detection_classes'].astype(np.int64)\n",
    "\n",
    "label_id_offset = 1\n",
    "image_np_with_detections = image_np.copy()\n",
    "\n",
    "viz_utils.visualize_boxes_and_labels_on_image_array(\n",
    "            image_np_with_detections,\n",
    "            detections['detection_boxes'],\n",
    "            detections['detection_classes']+label_id_offset,\n",
    "            detections['detection_scores'],\n",
    "            category_index,\n",
    "            use_normalized_coordinates=True,\n",
    "            max_boxes_to_draw=5,\n",
    "            min_score_thresh=.8,\n",
    "            agnostic_mode=False)\n",
    "\n",
    "plt.imshow(cv2.cvtColor(image_np_with_detections, cv2.COLOR_BGR2RGB))\n",
    "plt.show()"
   ]
  },
  {
   "cell_type": "markdown",
   "id": "1d8c0641",
   "metadata": {},
   "source": [
    "## Character identification and OCR"
   ]
  },
  {
   "cell_type": "code",
   "execution_count": 12,
   "id": "8b504e46",
   "metadata": {},
   "outputs": [],
   "source": [
    "detection_threshold = 0.8"
   ]
  },
  {
   "cell_type": "code",
   "execution_count": 13,
   "id": "436f2d14",
   "metadata": {},
   "outputs": [],
   "source": [
    "image = image_np_with_detections\n",
    "scores = list(filter(lambda x : x > detection_threshold,detections['detection_scores']))\n",
    "boxes = detections['detection_boxes'][:len(scores)]\n",
    "classes = detections['detection_classes'][:len(scores)]"
   ]
  },
  {
   "cell_type": "code",
   "execution_count": 14,
   "id": "c711409d",
   "metadata": {},
   "outputs": [],
   "source": [
    "width = image.shape[1]\n",
    "height = image.shape[0]"
   ]
  },
  {
   "cell_type": "markdown",
   "id": "f72d82b3",
   "metadata": {},
   "source": [
    "### Using cv2 contours and the ocr model that I did"
   ]
  },
  {
   "cell_type": "code",
   "execution_count": 40,
   "id": "abc99efd",
   "metadata": {},
   "outputs": [],
   "source": [
    "import imutils\n",
    "import matplotlib.gridspec as gridspec"
   ]
  },
  {
   "cell_type": "code",
   "execution_count": null,
   "id": "191b7e8e",
   "metadata": {},
   "outputs": [],
   "source": [
    "for idx,box in enumerate(boxes):\n",
    "    roi = box*[height,width,height,width]\n",
    "    region = image[int(roi[0]):int(roi[2]),int(roi[1]):int(roi[3])]\n",
    "plate_image = cv2.convertScaleAbs(region, alpha=(100.0))\n",
    "    \n",
    "# convert to grayscale and blur the image\n",
    "\n",
    "gray = cv2.cvtColor(plate_image, cv2.COLOR_BGR2GRAY)\n",
    "blur = cv2.GaussianBlur(gray,(7,7),0)\n",
    "    \n",
    "# Applied inversed thresh_binary \n",
    "binary = cv2.threshold(blur, 180, 255,\n",
    "                         cv2.THRESH_BINARY_INV + cv2.THRESH_OTSU)[1]\n",
    "## Applied dilation \n",
    "kernel3 = cv2.getStructuringElement(cv2.MORPH_RECT, (3, 3))\n",
    "thre_mor = cv2.morphologyEx(binary, cv2.MORPH_DILATE, kernel3)\n",
    "thre_mor = cv2.cvtColor(thre_mor, cv2.COLOR_BGR2RGB)\n",
    "\n",
    "edges = cv2.Canny(thre_mor,20,200)\n",
    "\n",
    "contours = cv2.findContours(edges.copy(),cv2.RETR_TREE,cv2.CHAIN_APPROX_SIMPLE)\n",
    "contours = imutils.grab_contours(contours)\n",
    "contours = sorted(contours,key=cv2.contourArea, reverse = True)\n",
    "test_roi = region.copy()\n",
    "\n",
    "digit_w, digit_h = 30, 60\n",
    "\n",
    "crop_characters=[]\n",
    "for c in contours:\n",
    "    (x,y,w,h) = cv2.boundingRect(c)\n",
    "    ratio = h/w\n",
    "    if 1<=ratio<=9.5: # Only select contour with defined ratio\n",
    "        if h/plate_image.shape[0]>=0.5: # Select contour which has the height larger than 50% of the plate\n",
    "            # Draw bounding box arroung digit number\n",
    "            cv2.rectangle(test_roi, (x, y), (x + w, y + h), (0, 255,0), 2)\n",
    "            curr_num = thre_mor[y:y+h,x:x+w]\n",
    "            curr_num = cv2.resize(curr_num, dsize=(digit_w, digit_h))\n",
    "            #_, curr_num = cv2.threshold(curr_num, 220, 255, cv2.THRESH_BINARY + cv2.THRESH_OTSU)\n",
    "            crop_characters.append(curr_num)\n",
    "\n",
    "fig = plt.figure(figsize=(14,4))\n",
    "grid = gridspec.GridSpec(ncols=len(crop_characters),nrows=1,figure=fig)\n",
    "\n",
    "for i in range(len(crop_characters)):\n",
    "    fig.add_subplot(grid[i])\n",
    "    plt.axis(False)\n",
    "    plt.imshow(crop_characters[i],cmap=\"gray\")"
   ]
  },
  {
   "cell_type": "code",
   "execution_count": null,
   "id": "b7d230c6",
   "metadata": {},
   "outputs": [],
   "source": [
    "import numpy as np\n",
    "import imageio \n",
    "from keras.models import load_model\n",
    "\n",
    "charac = []\n",
    "\n",
    "for letters in crop_characters:\n",
    "    ip = letters\n",
    "    bandw = np.dot(ip[...,:3],[0.2989, 0.5870, 0.1140])\n",
    "    #ip = (ip.reshape(1,28,28,1))/255\n",
    "\n",
    "    model = load_model('ocr.h5')\n",
    "\n",
    "    output = model.predict(ip)\n",
    "    charac.append(output)\n",
    "print(charac)"
   ]
  },
  {
   "cell_type": "markdown",
   "id": "829c2946",
   "metadata": {},
   "source": [
    "### Using pytesseract "
   ]
  },
  {
   "cell_type": "code",
   "execution_count": 79,
   "id": "45341f75",
   "metadata": {},
   "outputs": [],
   "source": [
    "import pytesseract \n",
    "def ocR (image):\n",
    "    im = image\n",
    "    gray = cv2.cvtColor(im, cv2.COLOR_BGR2GRAY)\n",
    "    threshold_img = cv2.threshold(gray, 0, 255, cv2.THRESH_BINARY | cv2.THRESH_OTSU)[1]\n",
    "    customconfig = r'--oem 3 --psm 8'\n",
    "    details = pytesseract.image_to_data(threshold_img, output_type=pytesseract.Output.DICT, config=customconfig, lang='eng')\n",
    "    return threshold_img, details"
   ]
  },
  {
   "cell_type": "code",
   "execution_count": 80,
   "id": "86dbfed7",
   "metadata": {
    "scrolled": true
   },
   "outputs": [
    {
     "name": "stdout",
     "output_type": "stream",
     "text": [
      "['anariea']\n"
     ]
    },
    {
     "data": {
      "image/png": "[encoded data removed]",
      "text/plain": [
       "<Figure size 432x288 with 1 Axes>"
      ]
     },
     "metadata": {
      "needs_background": "light"
     },
     "output_type": "display_data"
    }
   ],
   "source": [
    "for idx,box in enumerate(boxes):\n",
    "    roi = box*[height,width,height,width]\n",
    "    region = image[int(roi[0]):int(roi[2]),int(roi[1]):int(roi[3])]\n",
    "    test = region.copy()\n",
    "    temp,details = ocR(test)\n",
    "    totboxes = len(details['text'])\n",
    "    #print(details)\n",
    "    for i in range(totboxes):\n",
    "        if(int(details['conf'][i]))>=30:\n",
    "            (x,y,w,h) = (details['left'][i],details['top'][i],details['width'][i],details['height'][i])\n",
    "            region = cv2.rectangle(region,(x,y),(x+w,y+h),(0,255,0),2)\n",
    "    plt.imshow(region)\n",
    "    #print(details)\n",
    "    lic = []\n",
    "    for texts in details['text']:\n",
    "        if texts != '':\n",
    "            lic.append(texts)\n",
    "print(lic)"
   ]
  },
  {
   "cell_type": "markdown",
   "id": "b68e5a81",
   "metadata": {},
   "source": [
    "#### image processing for pytesseract"
   ]
  },
  {
   "cell_type": "code",
   "execution_count": 78,
   "id": "ec0f7e22",
   "metadata": {},
   "outputs": [
    {
     "data": {
      "image/png": "[encoded data removed]",
      "text/plain": [
       "<Figure size 432x288 with 1 Axes>"
      ]
     },
     "metadata": {
      "needs_background": "light"
     },
     "output_type": "display_data"
    }
   ],
   "source": [
    "for idx,box in enumerate(boxes):\n",
    "    roi = box*[height,width,height,width]\n",
    "    region = image[int(roi[0]):int(roi[2]),int(roi[1]):int(roi[3])]\n",
    "    result = np.zeros(region.shape, dtype=np.uint8)\n",
    "    #hsv = cv2.cvtColor(region, cv2.COLOR_BGR2HSV)\n",
    "#     lower = np.array([0,0,0])\n",
    "#     upper = np.array([200,180,180])\n",
    "#     mask = cv2.inRange(hsv, lower, upper)\n",
    "    thres = cv2.cvtColor(region, cv2.COLOR_BGR2GRAY)\n",
    "    thres = thres.astype(np.uint8)\n",
    "    mask = cv2.threshold(thres, 0, 255, cv2.THRESH_BINARY | cv2.THRESH_OTSU)[1]\n",
    "\n",
    "    # Perform morph close and merge for 3-channel ROI extraction\n",
    "    kernel = cv2.getStructuringElement(cv2.MORPH_RECT, (3,3))\n",
    "    close = cv2.morphologyEx(mask, cv2.MORPH_CLOSE, kernel, iterations=1)\n",
    "    extract = cv2.merge([close,close,close])\n",
    "\n",
    "    # Find contours, filter using contour area, and extract using Numpy slicing\n",
    "    cnts = cv2.findContours(close, cv2.RETR_TREE, cv2.CHAIN_APPROX_SIMPLE)\n",
    "    cnts = cnts[0] if len(cnts) == 2 else cnts[1]\n",
    "    for c in cnts:\n",
    "        x,y,w,h = cv2.boundingRect(c)\n",
    "        area = w * h\n",
    "        if area < 5000 and area > 2500:\n",
    "            cv2.rectangle(image, (x, y), (x + w, y + h), (36,255,12), 3)\n",
    "            result[y:y+h, x:x+w] = extract[y:y+h, x:x+w] \n",
    "\n",
    "    # Invert image and throw into Pytesseract\n",
    "    invert = 255 - result\n",
    "    plt.imshow(mask)"
   ]
  },
  {
   "cell_type": "markdown",
   "id": "3925457e",
   "metadata": {},
   "source": [
    "### Using easyocr"
   ]
  },
  {
   "cell_type": "code",
   "execution_count": 15,
   "id": "32878caf",
   "metadata": {},
   "outputs": [
    {
     "name": "stderr",
     "output_type": "stream",
     "text": [
      "CUDA not available - defaulting to CPU. Note: This module is much faster with a GPU.\n"
     ]
    }
   ],
   "source": [
    "import easyocr\n",
    "import string\n",
    "reader = easyocr.Reader(['en'])"
   ]
  },
  {
   "cell_type": "code",
   "execution_count": 16,
   "id": "ee7a6c69",
   "metadata": {},
   "outputs": [],
   "source": [
    "box_thres = 0.5\n",
    "\n",
    "def numplatereg(image,result,img_thres):\n",
    "    siz = region.shape[0]*region.shape[1]\n",
    "    plate=[]\n",
    "    for res in result:\n",
    "        length = np.sum(np.subtract(result[0][0][1],result[0][0][0]))\n",
    "        width = np.sum(np.subtract(result[0][0][2],result[0][0][1]))\n",
    "        lol = (length*width)/siz\n",
    "        if (length*width)/siz > img_thres:\n",
    "            plate.append(res[1])\n",
    "    return plate\n",
    "        "
   ]
  },
  {
   "cell_type": "code",
   "execution_count": 17,
   "id": "0681f9ac",
   "metadata": {
    "scrolled": false
   },
   "outputs": [
    {
     "name": "stderr",
     "output_type": "stream",
     "text": [
      "/Library/Frameworks/Python.framework/Versions/3.9/lib/python3.9/site-packages/torch/nn/functional.py:718: UserWarning: Named tensors and all their associated APIs are an experimental feature and subject to change. Please do not use them for anything important until they are released as stable. (Triggered internally at  ../c10/core/TensorImpl.h:1156.)\n",
      "  return torch.max_pool2d(input, kernel_size, stride, padding, dilation, ceil_mode)\n"
     ]
    },
    {
     "name": "stdout",
     "output_type": "stream",
     "text": [
      "License plate number :  MAIL\n",
      "License plate number :  CN\n",
      "License plate number :  9239\n"
     ]
    },
    {
     "data": {
      "image/png": "[encoded data removed]",
      "text/plain": [
       "<Figure size 432x288 with 1 Axes>"
      ]
     },
     "metadata": {
      "needs_background": "light"
     },
     "output_type": "display_data"
    }
   ],
   "source": [
    "ocr_res=[]\n",
    "for idx,box in enumerate(boxes):\n",
    "    roi = box*[height,width,height,width]\n",
    "    thres = image[int(roi[0]):int(roi[2]),int(roi[1]):int(roi[3])]\n",
    "    temp = thres\n",
    "    thres = cv2.cvtColor(thres, cv2.COLOR_BGR2GRAY)\n",
    "    thres = thres.astype(np.uint8)\n",
    "    region = cv2.threshold(thres, 0, 255, cv2.THRESH_BINARY | cv2.THRESH_OTSU)[1]\n",
    "    \n",
    "    #plt.imshow(region)\n",
    "    op = reader.readtext(temp,allowlist=string.ascii_uppercase + \"0123456789\")\n",
    "    ocr_res.append(op)\n",
    "    for i in range(0,len(ocr_res)):\n",
    "        for j in range(0,len(ocr_res[i])):\n",
    "            print('License plate number : ', ocr_res[i][j][1])\n",
    "\n",
    "    plt.imshow(region, cmap='gray')\n",
    "    plt.show()"
   ]
  },
  {
   "cell_type": "markdown",
   "id": "8b5bec16",
   "metadata": {},
   "source": [
    "#### Analyzing the plate using indian number plate number format"
   ]
  },
  {
   "cell_type": "code",
   "execution_count": 18,
   "id": "b9998867",
   "metadata": {},
   "outputs": [
    {
     "name": "stdout",
     "output_type": "stream",
     "text": [
      "license plate number : MH14CN9239\n"
     ]
    }
   ],
   "source": [
    "# indian plate pattern is ##**##**** where # is a letter and * is number\n",
    "# the first two characters are always the state codes so that can be narrowed down\n",
    "\n",
    "numtolet={0:'O',4:'A',1:'I',5:'S',8:'B',7:'V',3:'S'}\n",
    "lettonum={'O':0,'L':4,'I':1,'S':5,'B':8,'A':4,'J':3,'T':1,'Z':2,'G':6,'Q':0,'D':0,'F':'F'}\n",
    "state_code=['AN','AP','AR','AS','BR','CH','CG','DL','GJ','HR','JK','JH','KA','KL','MP','MH','MN','ML','MZ','OD','PB','RJ','SK','TN','TS','TR','UP','UK','WB']\n",
    "sec_h={'H':'M'}\n",
    "fir_m={'A':'H','M':'H'}\n",
    "sec_t={'M':'N',5:'S','H':'N'}\n",
    "sec_b={'H':'W'}\n",
    "alpha=string.ascii_uppercase\n",
    "numb = '0123456789'\n",
    "test=''\n",
    "for i in range(0,len(ocr_res)):\n",
    "    if len(ocr_res[i])<1:\n",
    "        continue\n",
    "    for j in range(0,len(ocr_res[i])):\n",
    "            \n",
    "        if len(ocr_res[i][j])>1:\n",
    "            test=test+ocr_res[i][j][1]\n",
    "            \n",
    "            if len(test) > 10:\n",
    "                if test[:3] == 'IND':\n",
    "                    test = test[3:]\n",
    "                elif test[:2] == 'ND':\n",
    "                    test = test[2:]\n",
    "        else:\n",
    "            test=ocr_res[i][j][1]\n",
    "    l=list(test)\n",
    "    if len(l)>10:\n",
    "        if l[0] == 'I' or l[0] == 'F':\n",
    "            l=l[1:]\n",
    "        else:\n",
    "            l.pop()\n",
    "    \n",
    "    try:\n",
    "        if l[0] in alpha and l[1] in alpha:\n",
    "            pass\n",
    "        elif not(l[1] in alpha) and l[0] in alpha:\n",
    "            l[1]=numtolet[int(l[1])]\n",
    "        elif not(l[0] in alpha) and l[1] in alpha :\n",
    "            l[0]=numtolet[int(l[0])]\n",
    "        else:\n",
    "            l[1]=numtolet[int(l[1])]\n",
    "            l[0]=numtolet[int(l[0])]\n",
    "\n",
    "\n",
    "        if l[2] in numb and l[3] in numb:\n",
    "            pass\n",
    "        elif not(l[3] in numb) and l[2] in numb :\n",
    "            l[3] = lettonum[l[3]]\n",
    "        elif not(l[2] in numb) and l[3] in numb:\n",
    "            l[2]=lettonum[l[2]]\n",
    "        else:\n",
    "            l[2]=lettonum[l[2]]\n",
    "            l[3] = lettonum[l[3]]\n",
    "\n",
    "        if l[4] in alpha and l[5] in alpha:\n",
    "            pass\n",
    "        elif not(l[5] in alpha) and l[4] in alpha :\n",
    "            l[5]=numtolet[int(l[5])]\n",
    "        elif not(l[4] in alpha) and l[5] in alpha:\n",
    "            l[4]=numtolet[int(l[4])]\n",
    "        else:\n",
    "            l[4]=numtolet[int(l[4])]\n",
    "            l[5]=numtolet[int(l[5])]\n",
    "\n",
    "        if l[6] in numb and l[7] in numb and l[8] in numb and l[9] in numb :\n",
    "            pass\n",
    "        if not(l[6] in numb):\n",
    "            l[6] = lettonum[l[6]]\n",
    "        if not(l[7] in numb):\n",
    "            l[7] = lettonum[l[7]]\n",
    "        if not(l[8] in numb):\n",
    "            l[8] = lettonum[l[8]]\n",
    "        if not(l[9] in numb):\n",
    "            l[9] = lettonum[l[9]]\n",
    "            \n",
    "    except:\n",
    "        pass\n",
    "if len(l)>10:\n",
    "    l=l[0:10]\n",
    "state = str(\"\".join(str(i) for i in l[0:2]))\n",
    "if state in state_code:\n",
    "    pass\n",
    "else:\n",
    "    try:\n",
    "        if l[1] == 'H':\n",
    "            a = l[0]\n",
    "            b = sec_h[a]\n",
    "            l[0]= b\n",
    "    except:\n",
    "        pass\n",
    "    if l[0] == 'M':\n",
    "        l[1] = fir_m[l[1]]\n",
    "    if l[1] == 'A':\n",
    "        l[0] = 'K'\n",
    "    if l[0] == 'T':\n",
    "        l[1] = sec_t[l[1]]\n",
    "    if l[0] == 'R':\n",
    "        l[1] = 'J'\n",
    "\n",
    "\n",
    "print('license plate number :',str(\"\".join(str(i) for i in l)))    "
   ]
  },
  {
   "cell_type": "code",
   "execution_count": 664,
   "id": "f43ddbbc",
   "metadata": {},
   "outputs": [
    {
     "ename": "TypeError",
     "evalue": "can only concatenate str (not \"list\") to str",
     "output_type": "error",
     "traceback": [
      "\u001b[0;31m---------------------------------------------------------------------------\u001b[0m",
      "\u001b[0;31mTypeError\u001b[0m                                 Traceback (most recent call last)",
      "\u001b[0;32m/var/folders/zl/xbdvl7157x99h81d4htcfqtm0000gn/T/ipykernel_2681/3786191471.py\u001b[0m in \u001b[0;36m<module>\u001b[0;34m\u001b[0m\n\u001b[0;32m----> 1\u001b[0;31m \u001b[0mprint\u001b[0m\u001b[0;34m(\u001b[0m\u001b[0mindian_rule\u001b[0m\u001b[0;34m(\u001b[0m\u001b[0mocr_res\u001b[0m\u001b[0;34m)\u001b[0m\u001b[0;34m)\u001b[0m\u001b[0;34m\u001b[0m\u001b[0;34m\u001b[0m\u001b[0m\n\u001b[0m",
      "\u001b[0;32m/var/folders/zl/xbdvl7157x99h81d4htcfqtm0000gn/T/ipykernel_2681/2884302890.py\u001b[0m in \u001b[0;36mindian_rule\u001b[0;34m(ocr_res)\u001b[0m\n\u001b[1;32m     18\u001b[0m \u001b[0;34m\u001b[0m\u001b[0m\n\u001b[1;32m     19\u001b[0m             \u001b[0;32mif\u001b[0m \u001b[0mlen\u001b[0m\u001b[0;34m(\u001b[0m\u001b[0mocr_res\u001b[0m\u001b[0;34m[\u001b[0m\u001b[0mi\u001b[0m\u001b[0;34m]\u001b[0m\u001b[0;34m[\u001b[0m\u001b[0mj\u001b[0m\u001b[0;34m]\u001b[0m\u001b[0;34m)\u001b[0m\u001b[0;34m>\u001b[0m\u001b[0;36m1\u001b[0m\u001b[0;34m:\u001b[0m\u001b[0;34m\u001b[0m\u001b[0;34m\u001b[0m\u001b[0m\n\u001b[0;32m---> 20\u001b[0;31m                 \u001b[0mtest\u001b[0m\u001b[0;34m=\u001b[0m\u001b[0mtest\u001b[0m\u001b[0;34m+\u001b[0m\u001b[0mocr_res\u001b[0m\u001b[0;34m[\u001b[0m\u001b[0mi\u001b[0m\u001b[0;34m]\u001b[0m\u001b[0;34m[\u001b[0m\u001b[0mj\u001b[0m\u001b[0;34m]\u001b[0m\u001b[0;34m[\u001b[0m\u001b[0;36m1\u001b[0m\u001b[0;34m]\u001b[0m\u001b[0;34m\u001b[0m\u001b[0;34m\u001b[0m\u001b[0m\n\u001b[0m\u001b[1;32m     21\u001b[0m \u001b[0;34m\u001b[0m\u001b[0m\n\u001b[1;32m     22\u001b[0m                 \u001b[0;32mif\u001b[0m \u001b[0mlen\u001b[0m\u001b[0;34m(\u001b[0m\u001b[0mtest\u001b[0m\u001b[0;34m)\u001b[0m \u001b[0;34m>\u001b[0m \u001b[0;36m10\u001b[0m\u001b[0;34m:\u001b[0m\u001b[0;34m\u001b[0m\u001b[0;34m\u001b[0m\u001b[0m\n",
      "\u001b[0;31mTypeError\u001b[0m: can only concatenate str (not \"list\") to str"
     ]
    }
   ],
   "source": [
    "print(indian_rule(ocr_res))"
   ]
  },
  {
   "cell_type": "markdown",
   "id": "068e7c7b",
   "metadata": {},
   "source": [
    "#### Trying out sharpening filter, inversion and eroding"
   ]
  },
  {
   "cell_type": "code",
   "execution_count": 163,
   "id": "fc4708c6",
   "metadata": {},
   "outputs": [
    {
     "name": "stdout",
     "output_type": "stream",
     "text": [
      "License plate number :  HH15BD8677\n"
     ]
    },
    {
     "data": {
      "text/plain": [
       "<matplotlib.image.AxesImage at 0x7fd75500fc40>"
      ]
     },
     "execution_count": 163,
     "metadata": {},
     "output_type": "execute_result"
    },
    {
     "data": {
      "image/png": "[encoded data removed]",
      "text/plain": [
       "<Figure size 432x288 with 1 Axes>"
      ]
     },
     "metadata": {
      "needs_background": "light"
     },
     "output_type": "display_data"
    }
   ],
   "source": [
    "sharpening_filter= np.array([[0,-1,0],[-1,5,-1],[0,-1,-0]])\n",
    "sharpening_image = cv2.filter2D(temp,-1,sharpening_filter)\n",
    "\n",
    "inverte = cv2.bitwise_not(temp)\n",
    "\n",
    "kernel = np.ones((1,1),np.uint8)\n",
    "noise_img = cv2.dilate(temp,kernel,iterations=1)\n",
    "kernel = np.ones((1,1),np.uint8)\n",
    "noise_img = cv2.erode(noise_img,kernel,iterations=1)\n",
    "noise_img = cv2.morphologyEx(noise_img, cv2.MORPH_CLOSE,kernel)\n",
    "noise_img = cv2.medianBlur(noise_img,3)\n",
    "\n",
    "erode_img= cv2.bitwise_not(temp)\n",
    "kernel = np.ones((2,2),np.uint8)\n",
    "erode_img = cv2.erode(erode_img, kernel, iterations=1)\n",
    "erode_img = cv2.bitwise_not(erode_img)\n",
    "\n",
    "dst = cv2.fastNlMeansDenoisingColored(temp, None, 10, 10, 7, 15) \n",
    "\n",
    "kernel = np.ones((2,2),np.uint8)\n",
    "erosion = cv2.erode(temp,kernel,iterations = 1)\n",
    "ocr_res = reader.readtext(erode_img,allowlist=string.ascii_uppercase + \"0123456789\")\n",
    "for i in range(0,len(ocr_res)):\n",
    "    print('License plate number : ', ocr_res[i][1])\n",
    "plt.imshow(erosion)"
   ]
  },
  {
   "cell_type": "markdown",
   "id": "5289bcc1",
   "metadata": {},
   "source": [
    "#### Using a super resolution DL model to enhance the image"
   ]
  },
  {
   "cell_type": "code",
   "execution_count": null,
   "id": "ee197972",
   "metadata": {},
   "outputs": [],
   "source": [
    "import cv2\n",
    "sr = cv2.dnn_superres.DnnSuperResImpl_create()\n",
    "\n",
    "path = \"FSRCNN_x3.pb\"\n",
    "\n",
    "sr.readModel(path)\n",
    "\n",
    "sr.setModel(\"edsr\",3)\n",
    "\n",
    "result = sr.upsample(temp)\n",
    "\n",
    "# Resized image\n",
    "resized = cv2.resize(temp,dsize=None,fx=4,fy=4)\n",
    "plt.imshow(result)"
   ]
  },
  {
   "cell_type": "markdown",
   "id": "f2490545",
   "metadata": {},
   "source": [
    "#### Normal PIL enhancer "
   ]
  },
  {
   "cell_type": "code",
   "execution_count": 35,
   "id": "8a323ed7",
   "metadata": {},
   "outputs": [
    {
     "data": {
      "text/plain": [
       "<matplotlib.image.AxesImage at 0x7f98be86ad00>"
      ]
     },
     "execution_count": 35,
     "metadata": {},
     "output_type": "execute_result"
    },
    {
     "data": {
      "image/png": "[encoded data removed]",
      "text/plain": [
       "<Figure size 432x288 with 1 Axes>"
      ]
     },
     "metadata": {
      "needs_background": "light"
     },
     "output_type": "display_data"
    }
   ],
   "source": [
    "from PIL import Image, ImageEnhance \n",
    "im = Image.open(\"/Users/sharath/Desktop/TFODCourse/licence label/Cars454.png\")\n",
    "enhancer = ImageEnhance.Contrast(im)\n",
    "enhanced_im = enhancer.enhance(4.0)\n",
    "nim = np.array(enhanced_im)\n",
    "plt.imshow(nim)"
   ]
  },
  {
   "cell_type": "code",
   "execution_count": 20,
   "id": "58d23bda",
   "metadata": {},
   "outputs": [],
   "source": [
    "def pred(path):\n",
    "    img = cv2.imread(path)\n",
    "    image_np = np.array(img)\n",
    "\n",
    "    input_tensor = tf.convert_to_tensor(np.expand_dims(image_np, 0), dtype=tf.float32)\n",
    "    detections = detect_fn(input_tensor)\n",
    "\n",
    "    num_detections = int(detections.pop('num_detections'))\n",
    "    detections = {key: value[0, :num_detections].numpy()\n",
    "                  for key, value in detections.items()}\n",
    "    detections['num_detections'] = num_detections\n",
    "\n",
    "    # detection_classes should be ints.\n",
    "    detections['detection_classes'] = detections['detection_classes'].astype(np.int64)\n",
    "\n",
    "    label_id_offset = 1\n",
    "    image_np_with_detections = image_np.copy()\n",
    "\n",
    "    viz_utils.visualize_boxes_and_labels_on_image_array(\n",
    "                image_np_with_detections,\n",
    "                detections['detection_boxes'],\n",
    "                detections['detection_classes']+label_id_offset,\n",
    "                detections['detection_scores'],\n",
    "                category_index,\n",
    "                use_normalized_coordinates=True,\n",
    "                max_boxes_to_draw=5,\n",
    "                min_score_thresh=.8,\n",
    "                agnostic_mode=False)\n",
    "    return image_np_with_detections,detections"
   ]
  },
  {
   "cell_type": "code",
   "execution_count": 40,
   "id": "c89177ea",
   "metadata": {},
   "outputs": [],
   "source": [
    "def indian_rule(ocr_res):\n",
    "    numtolet={0:'O',4:'A',1:'I',5:'S',8:'B',7:'V',3:'S'}\n",
    "    lettonum={'O':0,'L':4,'I':1,'S':5,'B':8,'A':4,'J':3,'T':1,'Z':2,'G':6,'Q':0,'D':0,'F':'F'}\n",
    "    state_code=['AN','AP','AR','AS','BR','CH','CG','DL','GJ','HR','JK','JH','KA','KL','MP','MH','MN','ML','MZ','OD','PB','RJ','SK','TN','TS','TR','UP','UK','WB']\n",
    "    sec_h={'H':'M'}\n",
    "    fir_m={'A':'H','M':'H'}\n",
    "    sec_t={'M':'N',5:'S','H':'N'}\n",
    "    sec_b={'H':'W'}\n",
    "    alpha=string.ascii_uppercase\n",
    "    numb = '0123456789'\n",
    "    test=''\n",
    "    for j in range(0,len(ocr_res)):\n",
    "        if len(ocr_res)<1:\n",
    "            continue\n",
    "        if len(ocr_res)>1:\n",
    "            test=test+ocr_res[j]\n",
    "            if len(test) > 10:\n",
    "                if test[:3] == 'IND':\n",
    "                    test = test[3:]\n",
    "                elif test[:2] == 'ND':\n",
    "                    test = test[2:]\n",
    "        else:\n",
    "            test=ocr_res[j]\n",
    "    l=list(test)\n",
    "    if len(l)>10:\n",
    "        if l[0] == 'I' or l[0] == 'F':\n",
    "            l=l[1:]\n",
    "        else:\n",
    "            l.pop()\n",
    "\n",
    "    try:\n",
    "        if l[0] in alpha and l[1] in alpha:\n",
    "            pass\n",
    "        elif not(l[1] in alpha) and l[0] in alpha:\n",
    "            l[1]=numtolet[int(l[1])]\n",
    "        elif not(l[0] in alpha) and l[1] in alpha :\n",
    "            l[0]=numtolet[int(l[0])]\n",
    "        else:\n",
    "            l[1]=numtolet[int(l[1])]\n",
    "            l[0]=numtolet[int(l[0])]\n",
    "\n",
    "\n",
    "        if l[2] in numb and l[3] in numb:\n",
    "            pass\n",
    "        elif not(l[3] in numb) and l[2] in numb :\n",
    "            l[3] = lettonum[l[3]]\n",
    "        elif not(l[2] in numb) and l[3] in numb:\n",
    "            l[2]=lettonum[l[2]]\n",
    "        else:\n",
    "            l[2]=lettonum[l[2]]\n",
    "            l[3] = lettonum[l[3]]\n",
    "\n",
    "        if l[4] in alpha and l[5] in alpha:\n",
    "            pass\n",
    "        elif not(l[5] in alpha) and l[4] in alpha :\n",
    "            l[5]=numtolet[int(l[5])]\n",
    "        elif not(l[4] in alpha) and l[5] in alpha:\n",
    "            l[4]=numtolet[int(l[4])]\n",
    "        else:\n",
    "            l[4]=numtolet[int(l[4])]\n",
    "            l[5]=numtolet[int(l[5])]\n",
    "\n",
    "        if l[6] in numb and l[7] in numb and l[8] in numb and l[9] in numb :\n",
    "            pass\n",
    "        if not(l[6] in numb):\n",
    "            l[6] = lettonum[l[6]]\n",
    "        if not(l[7] in numb):\n",
    "            l[7] = lettonum[l[7]]\n",
    "        if not(l[8] in numb):\n",
    "            l[8] = lettonum[l[8]]\n",
    "        if not(l[9] in numb):\n",
    "            l[9] = lettonum[l[9]]\n",
    "\n",
    "    except:\n",
    "        pass\n",
    "    if len(l)>10:\n",
    "        l=l[0:10]\n",
    "    state = str(\"\".join(str(i) for i in l[0:2]))\n",
    "    if state in state_code:\n",
    "        pass\n",
    "    else:\n",
    "        flag = 0\n",
    "        if l[1] == 'H':\n",
    "            a = l[0]\n",
    "            b = sec_h[a]\n",
    "            l[0]= b\n",
    "            flag = 1\n",
    "        if l[0] == 'M'and flag == 0:\n",
    "            l[1] = fir_m[l[1]]\n",
    "        if l[1] == 'A':\n",
    "            l[0] = 'K'\n",
    "        if l[0] == 'T':\n",
    "            l[1] = sec_t[l[1]]\n",
    "        if l[0] == 'R':\n",
    "            l[1] = 'J'\n",
    "    fin = str(\"\".join(str(i) for i in l))\n",
    "    return fin"
   ]
  },
  {
   "cell_type": "markdown",
   "id": "a8c64f61",
   "metadata": {},
   "source": [
    "## Getting live detection using webcam of the laptop"
   ]
  },
  {
   "cell_type": "code",
   "execution_count": 18,
   "id": "66bc58e8",
   "metadata": {},
   "outputs": [
    {
     "name": "stderr",
     "output_type": "stream",
     "text": [
      "CUDA not available - defaulting to CPU. Note: This module is much faster with a GPU.\n"
     ]
    }
   ],
   "source": [
    "vide = cv2.VideoCapture(0)\n",
    "reader = easyocr.Reader(['en'])\n",
    "while True:\n",
    "    flag, image = vide.read()\n",
    "    image_np = np.array(image)\n",
    "\n",
    "    input_tensor = tf.convert_to_tensor(np.expand_dims(image_np, 0), dtype=tf.float32)\n",
    "    detections = detect_fn(input_tensor)\n",
    "\n",
    "    num_detections = int(detections.pop('num_detections'))\n",
    "    detections = {key: value[0, :num_detections].numpy()\n",
    "                  for key, value in detections.items()}\n",
    "    detections['num_detections'] = num_detections\n",
    "\n",
    "    # detection_classes should be ints.\n",
    "    detections['detection_classes'] = detections['detection_classes'].astype(np.int64)\n",
    "\n",
    "    label_id_offset = 1\n",
    "    image_np_with_detections = image_np.copy()\n",
    "\n",
    "    viz_utils.visualize_boxes_and_labels_on_image_array(\n",
    "                image_np_with_detections,\n",
    "                detections['detection_boxes'],\n",
    "                detections['detection_classes']+label_id_offset,\n",
    "                detections['detection_scores'],\n",
    "                category_index,\n",
    "                use_normalized_coordinates=True,\n",
    "                max_boxes_to_draw=5,\n",
    "                min_score_thresh=.8,\n",
    "                agnostic_mode=False)\n",
    "    cv2.imshow('licence detection',image_np_with_detections)\n",
    "    \n",
    "    detection_threshold = 0.9\n",
    "    \n",
    "    image = image_np_with_detections\n",
    "    scores = list(filter(lambda x : x > detection_threshold,detections['detection_scores']))\n",
    "    boxes = detections['detection_boxes'][:len(scores)]\n",
    "    classes = detections['detection_classes'][:len(scores)]\n",
    "    \n",
    "    width = image.shape[1]\n",
    "    height = image.shape[0]\n",
    "    \n",
    "    for idx,box in enumerate(boxes):\n",
    "        roi = box*[height,width,height,width]\n",
    "        thres = image[int(roi[0]):int(roi[2]),int(roi[1]):int(roi[3])]\n",
    "        thres = cv2.cvtColor(thres, cv2.COLOR_BGR2GRAY)\n",
    "        thres = thres.astype(np.uint8)\n",
    "        region = cv2.adaptiveThreshold(thres,190,cv2.ADAPTIVE_THRESH_GAUSSIAN_C,cv2.THRESH_BINARY,19,4)\n",
    "        #plt.imshow(region)\n",
    "        ocr_res = reader.readtext(region,allowlist=string.ascii_uppercase + \"0123456789\")\n",
    "        for i in range(0,len(ocr_res)):\n",
    "            print('licence plate number : ',ocr_res[i][1])\n",
    "    \n",
    "    \n",
    "    if cv2.waitKey(1) & 0xFF == ord('q'):\n",
    "        break\n",
    "vide.release()\n",
    "cv2.destroyAllWindows()"
   ]
  },
  {
   "cell_type": "markdown",
   "id": "e8ab9d74",
   "metadata": {},
   "source": [
    "### Finding out the accuracy of the OCR model"
   ]
  },
  {
   "cell_type": "code",
   "execution_count": 25,
   "id": "9a5969cf",
   "metadata": {},
   "outputs": [
    {
     "name": "stderr",
     "output_type": "stream",
     "text": [
      "CUDA not available - defaulting to CPU. Note: This module is much faster with a GPU.\n"
     ]
    },
    {
     "name": "stdout",
     "output_type": "stream",
     "text": [
      "WARNING:tensorflow:5 out of the last 8 calls to <function detect_fn at 0x7fbb7829e550> triggered tf.function retracing. Tracing is expensive and the excessive number of tracings could be due to (1) creating @tf.function repeatedly in a loop, (2) passing tensors with different shapes, (3) passing Python objects instead of tensors. For (1), please define your @tf.function outside of the loop. For (2), @tf.function has experimental_relax_shapes=True option that relaxes argument shapes that can avoid unnecessary retracing. For (3), please refer to https://www.tensorflow.org/guide/function#controlling_retracing and https://www.tensorflow.org/api_docs/python/tf/function for  more details.\n",
      "WARNING:tensorflow:6 out of the last 9 calls to <function detect_fn at 0x7fbb7829e550> triggered tf.function retracing. Tracing is expensive and the excessive number of tracings could be due to (1) creating @tf.function repeatedly in a loop, (2) passing tensors with different shapes, (3) passing Python objects instead of tensors. For (1), please define your @tf.function outside of the loop. For (2), @tf.function has experimental_relax_shapes=True option that relaxes argument shapes that can avoid unnecessary retracing. For (3), please refer to https://www.tensorflow.org/guide/function#controlling_retracing and https://www.tensorflow.org/api_docs/python/tf/function for  more details.\n",
      "{'Cars373.png': ['TN218C6225'], 'Cars415.png': ['MH1ZNEB922'], 'Cars372.png': ['HRZGCE1485'], 'Cars46.png': ['MAIL', 'CN', '9239'], 'Cars212.png': ['KL65H4383'], 'Cars206.png': ['HR26BU0280'], 'Cars199.png': ['FHHO4AE801ZJ'], 'Cars365.png': ['TN21BZ0768'], 'Cars86.png': ['MHT40X9937', 'MHT40X9937', 'L28', '873', 'I4170', 'ML40X9937', 'MHT40X9937', 'L28', '873', 'I4170', 'ML40X9937', 'A'], 'Cars82.png': ['UP18TCIJEC'], 'Cars97.png': ['KA', '05NG19091'], 'Cars189.png': ['CHOLANOOOL', 'CHOLANOOOL'], 'Cars148.png': ['MM01BBA550'], 'Cars438.png': ['MH47A7313'], 'licence.2532225a-0b2e-11ec-9b7c-acde48001122.jpg': ['IND', 'IDLSCBF3907'], 'Cars24.png': ['HR26BC5514'], 'Cars476.png': ['TNO16E715958'], 'Cars462.png': ['KA03', 'JND', 'HK', '834', 'KA03', 'JND', 'HK', '834', 'MARUYI', 'SUZUKI', 'ALJO', 'LX'], 'Cars477.png': ['DLICO', '6477'], 'Cars259.png': ['MH20EE7598'], 'Cars0.png': ['KLG1CA2555L'], 'Cars111.png': ['MH20EE7598'], 'licence.25393086-0b2e-11ec-9b7c-acde48001122.jpg': ['DL7CN5617'], 'Cars449.png': ['KA05NB1786'], 'Cars461.png': ['13N7974', 'DKA'], 'Cars500.png': ['DLZFFYOOQI'], 'licence.25394a12-0b2e-11ec-9b7c-acde48001122.jpg': ['EHH12B672371'], 'licence.25394e7c-0b2e-11ec-9b7c-acde48001122.jpg': ['NHO14V8866', 'NHO14V8866'], 'Cars302.png': ['KL0LCC50', 'KL0LCC50', 'KL0LCC50', 'NNDVA', '2I837'], 'licence.253a2eb4-0b2e-11ec-9b7c-acde48001122.jpg': ['FR26CU6799'], 'Cars459.png': ['6437C59005'], 'Cars471.png': ['ND', '6JJOZBRID', 'T8', '081412754918'], 'Cars261.png': ['ND', 'TSO8ER1643'], 'Cars473.png': ['F', '5977', 'HB06', 'IND'], 'Cars466.png': ['CC162', 'URJ6'], 'Cars116.png': ['MK3532'], 'Cars248.png': ['HHI', '112DE1433'], 'licence.25327656-0b2e-11ec-9b7c-acde48001122.jpg': ['KL5442670'], 'Cars443.png': ['TN99F2378'], 'Cars495.png': ['IND', 'CH02A41936'], 'Cars126.png': ['KA', '05NG19091'], 'Cars130.png': ['HR26BR9044'], 'Cars483.png': ['TN', 'SBAV10DD'], 'Cars440.png': ['DLBCAT7434', '0DVO0', 'FINDI'], 'Cars454.png': ['FUP3ZLF1607'], 'Cars469.png': ['DLIS', '66', '2468', 'AK', 'DL3C', 'QA', 'HON', '0'], 'licence.2539456c-0b2e-11ec-9b7c-acde48001122.jpg': ['TN37C5', '2765'], 'Cars496.png': ['FTN3832362418'], 'Cars482.png': ['AP05DP', '5666'], 'Cars486.png': ['E', 'BHP', 'KA', '05MG', '1909'], 'Cars450.png': ['IND', 'HR26DO55514'], 'Cars487.png': ['RIMIA5458'], 'Cars491.png': ['O097', 'KA04MP3867'], 'Cars452.png': ['DLITAH', '5599'], 'Cars446.png': ['MH20DV2363'], 'licence.25393bd0-0b2e-11ec-9b7c-acde48001122.jpg': ['HH15BD8877'], 'Cars490.png': ['DLSC', 'F6171'], 'Cars123.png': ['HR26BC5514'], 'Cars255.png': ['MH20EJ0364', 'MH20EJ0364', 'F'], 'Cars150.png': ['DL8CX4850'], 'Cars434.png': ['KLO44L22OQ'], 'Cars67.png': ['MA1ABN7077'], 'Cars219.png': ['KA03MGH2784'], 'licence.2539d2f2-0b2e-11ec-9b7c-acde48001122.jpg': ['TN99F2378'], 'Cars59.png': [], 'licence.25352694-0b2e-11ec-9b7c-acde48001122.jpg': ['MH208020', 'BL'], 'Cars153.png': ['MH208020', 'BL'], 'Cars387.png': ['HR264Z', '5927'], 'Cars152.png': ['DL49', 'AK49'], 'Cars191.png': ['XA03AB', '3380'], 'Cars433.png': ['HR26EA0137'], 'Cars235.png': ['FGJ03JL0126']}\n"
     ]
    }
   ],
   "source": [
    "from os import listdir\n",
    "path = '/Users/sharath/Desktop/TFODCourse/licence label/indian plates'\n",
    "file = listdir(path)\n",
    "detection_threshold = 0.8\n",
    "reader = easyocr.Reader(['en'])\n",
    "ocr_list={}\n",
    "for i in range (len(file)):\n",
    "    ocr_per_car = []\n",
    "    name = file[i]\n",
    "    ext = name.split('.')\n",
    "    if len(ext) == 2:\n",
    "        exttemp = ext[1]\n",
    "        if name == '.DS_Store':\n",
    "            pass\n",
    "        elif exttemp != 'xml' :\n",
    "            pathe='/Users/sharath/Desktop/TFODCourse/licence label/indian plates'+'/'+name\n",
    "            image,detections = pred(pathe)\n",
    "            scores = list(filter(lambda x : x > detection_threshold,detections['detection_scores']))\n",
    "            boxes = detections['detection_boxes'][:len(scores)]\n",
    "            classes = detections['detection_classes'][:len(scores)]\n",
    "            \n",
    "            width = image.shape[1]\n",
    "            height = image.shape[0]\n",
    "            \n",
    "            ocr_res=[]\n",
    "            for idx,box in enumerate(boxes):\n",
    "                roi = box*[height,width,height,width]\n",
    "                thres = image[int(roi[0]):int(roi[2]),int(roi[1]):int(roi[3])]\n",
    "                temp = thres\n",
    "                thres = cv2.cvtColor(thres, cv2.COLOR_BGR2GRAY)\n",
    "                thres = thres.astype(np.uint8)\n",
    "                region = cv2.threshold(thres, 0, 255, cv2.THRESH_BINARY | cv2.THRESH_OTSU)[1]\n",
    "\n",
    "                #plt.imshow(region)\n",
    "                op = reader.readtext(temp,allowlist=string.ascii_uppercase + \"0123456789\")\n",
    "                ocr_res.append(op)\n",
    "                for i in range(0,len(ocr_res)):\n",
    "                    for j in range(0,len(ocr_res[i])):\n",
    "                        ocr_per_car.append(ocr_res[i][j][1])\n",
    "                ocr_list[name]=ocr_per_car\n",
    "            \n",
    "\n",
    "    elif len(ext) == 3:\n",
    "        extempe = ext[2]\n",
    "        if name == '.DS_Store':\n",
    "            pass\n",
    "        elif extempe != 'xml' :\n",
    "            pathe='/Users/sharath/Desktop/TFODCourse/licence label/indian plates'+'/'+name\n",
    "            image,detections = pred(pathe)\n",
    "            scores = list(filter(lambda x : x > detection_threshold,detections['detection_scores']))\n",
    "            boxes = detections['detection_boxes'][:len(scores)]\n",
    "            classes = detections['detection_classes'][:len(scores)]\n",
    "            \n",
    "            width = image.shape[1]\n",
    "            height = image.shape[0]\n",
    "            ocr_res=[]\n",
    "            for idx,box in enumerate(boxes):\n",
    "                roi = box*[height,width,height,width]\n",
    "                thres = image[int(roi[0]):int(roi[2]),int(roi[1]):int(roi[3])]\n",
    "                temp = thres\n",
    "                thres = cv2.cvtColor(thres, cv2.COLOR_BGR2GRAY)\n",
    "                thres = thres.astype(np.uint8)\n",
    "                region = cv2.threshold(thres, 0, 255, cv2.THRESH_BINARY | cv2.THRESH_OTSU)[1]\n",
    "\n",
    "                #plt.imshow(region)\n",
    "                op = reader.readtext(temp,allowlist=string.ascii_uppercase + \"0123456789\")\n",
    "                ocr_res.append(op)\n",
    "                for i in range(0,len(ocr_res)):\n",
    "                    for j in range(0,len(ocr_res[i])):\n",
    "                        ocr_per_car.append(ocr_res[i][j][1])\n",
    "            ocr_list[name]=ocr_per_car\n",
    "print(ocr_list)"
   ]
  },
  {
   "cell_type": "code",
   "execution_count": 26,
   "id": "002fc61d",
   "metadata": {},
   "outputs": [
    {
     "name": "stderr",
     "output_type": "stream",
     "text": [
      "CUDA not available - defaulting to CPU. Note: This module is much faster with a GPU.\n"
     ]
    },
    {
     "name": "stdout",
     "output_type": "stream",
     "text": [
      "{'Cars373.png': ['TN218C6225'], 'Cars415.png': ['MH1ZNEB922'], 'Cars372.png': ['HRZGCE1L85E'], 'Cars46.png': ['MAIL', 'CN', '9239'], 'Cars212.png': ['KL65H4383'], 'Cars206.png': ['HR26BU0380'], 'Cars199.png': ['FHHO4AE801ZJ'], 'Cars365.png': ['TN21BZ0768'], 'Cars86.png': ['404140X99341', '404140X99341', 'L22S', '873', 'I4170', 'MI40X99377', '404140X99341', 'L22S', '873', 'I4170', 'MI40X99377', 'Z', 'O70F'], 'Cars82.png': ['UP16TCIJEC'], 'Cars97.png': ['KA', '05NG19091'], 'Cars189.png': ['CHOLANOOOL', 'CHOLANOOOL'], 'Cars148.png': ['MM01BBA550'], 'Cars438.png': ['MH47A7313'], 'licence.2532225a-0b2e-11ec-9b7c-acde48001122.jpg': ['IND', 'DLSCBF3907'], 'Cars24.png': ['HR26BCSS14'], 'Cars476.png': ['FTN016015958'], 'Cars462.png': ['K03', 'JND', 'HK', '834', 'K03', 'JND', 'HK', '834', 'MARUTI', 'SUZUKI', 'ALO', 'LX'], 'Cars477.png': ['DLICO6477'], 'Cars259.png': ['MH20EE7598'], 'Cars0.png': ['KLG1CA2555L'], 'Cars111.png': ['MH20EE7598'], 'licence.25393086-0b2e-11ec-9b7c-acde48001122.jpg': ['DL7CN5617'], 'Cars449.png': ['KA05NB1786'], 'Cars461.png': ['WKA13N7972'], 'Cars500.png': ['DLZFFYOOQI'], 'licence.25394a12-0b2e-11ec-9b7c-acde48001122.jpg': ['EHH12B67237'], 'licence.25394e7c-0b2e-11ec-9b7c-acde48001122.jpg': ['NHO14V8866', 'NHO14V8866'], 'Cars302.png': ['KL01CC50J', 'KL01CC50J', 'KL01CC50J', 'NNDVA', 'ETGJA'], 'licence.253a2eb4-0b2e-11ec-9b7c-acde48001122.jpg': ['IFR26CU6799'], 'Cars459.png': ['0437CS9005'], 'Cars471.png': ['ND', '68JO7BRIBDL', 'T8', '081417754918'], 'Cars261.png': ['ND', 'TSO8ER1643'], 'Cars473.png': ['F', '5977', 'NB06', 'IND'], 'Cars466.png': ['CC', '6162', 'UP16'], 'Cars116.png': ['MK3532'], 'Cars248.png': ['HHI', '112DE4433'], 'licence.25327656-0b2e-11ec-9b7c-acde48001122.jpg': ['KL5442670'], 'Cars443.png': ['TN99F2378'], 'Cars495.png': ['IND', 'CH02A41936'], 'Cars126.png': ['KA', '05NG19091'], 'Cars130.png': ['HR26BR90441'], 'Cars483.png': ['TN', 'S8', 'AV10D'], 'Cars440.png': ['IIND', 'DLBCAT7434', '0DVO0'], 'Cars454.png': ['FUP3ZLF1607'], 'Cars469.png': ['DLIS', '0', '666', '2468', 'AK', 'DL3C', 'QA', 'HON'], 'licence.2539456c-0b2e-11ec-9b7c-acde48001122.jpg': ['TN37C5', '2765'], 'Cars496.png': ['TN38323624'], 'Cars482.png': ['AP05DP', '5666'], 'Cars486.png': ['E', 'BHP', 'KA', 'G5MG', '1909'], 'Cars450.png': ['IND', 'HR26DO5551'], 'Cars487.png': ['IA5958'], 'Cars491.png': ['O093', 'KAJO4MP3862'], 'Cars452.png': ['DL1TAH', '5599'], 'Cars446.png': ['MH20DV2363'], 'licence.25393bd0-0b2e-11ec-9b7c-acde48001122.jpg': ['MH15BD8877'], 'Cars490.png': ['DLSC', 'F6171'], 'Cars123.png': ['HR26BC5514'], 'Cars255.png': ['MH20EJ0364', 'MH20EJ0364', 'ME'], 'Cars150.png': ['DL8CX4850'], 'Cars434.png': ['ML044L2200'], 'Cars67.png': ['MA1ABN7077'], 'Cars219.png': ['KA03MG', '2784'], 'licence.2539d2f2-0b2e-11ec-9b7c-acde48001122.jpg': ['TN99F2378'], 'Cars59.png': [], 'licence.25352694-0b2e-11ec-9b7c-acde48001122.jpg': ['MH208020', 'BULTEA'], 'Cars153.png': ['MH208020', 'BULTEA'], 'Cars387.png': ['HR264Z', '5927'], 'Cars152.png': ['DL49AK49'], 'Cars191.png': ['XA03ABI33807'], 'Cars433.png': ['HR26EA0137'], 'Cars235.png': ['FGJ03JL01261']}\n"
     ]
    }
   ],
   "source": [
    "from os import listdir\n",
    "path = '/Users/sharath/Desktop/TFODCourse/licence label/indian plates'\n",
    "file = listdir(path)\n",
    "detection_threshold = 0.8\n",
    "reader = easyocr.Reader(['en'])\n",
    "ocr_list_ii={}\n",
    "for i in range (len(file)):\n",
    "    ocr_per_car = []\n",
    "    name = file[i]\n",
    "    ext = name.split('.')\n",
    "    if len(ext) == 2:\n",
    "        exttemp = ext[1]\n",
    "        if name == '.DS_Store':\n",
    "            pass\n",
    "        elif exttemp != 'xml' :\n",
    "            pathe='/Users/sharath/Desktop/TFODCourse/licence label/indian plates'+'/'+name\n",
    "            image,detections = pred(pathe)\n",
    "            scores = list(filter(lambda x : x > detection_threshold,detections['detection_scores']))\n",
    "            boxes = detections['detection_boxes'][:len(scores)]\n",
    "            classes = detections['detection_classes'][:len(scores)]\n",
    "            \n",
    "            width = image.shape[1]\n",
    "            height = image.shape[0]\n",
    "            \n",
    "            ocr_res=[]\n",
    "            for idx,box in enumerate(boxes):\n",
    "                roi = box*[height,width,height,width]\n",
    "                thres = image[int(roi[0]):int(roi[2]),int(roi[1]):int(roi[3])]\n",
    "                temp = thres\n",
    "                thres = cv2.cvtColor(thres, cv2.COLOR_BGR2GRAY)\n",
    "                thres = thres.astype(np.uint8)\n",
    "                region = cv2.threshold(thres, 0, 255, cv2.THRESH_BINARY | cv2.THRESH_OTSU)[1]\n",
    "\n",
    "                #plt.imshow(region)\n",
    "                op = reader.readtext(thres,allowlist=string.ascii_uppercase + \"0123456789\")\n",
    "                ocr_res.append(op)\n",
    "                for i in range(0,len(ocr_res)):\n",
    "                    for j in range(0,len(ocr_res[i])):\n",
    "                        ocr_per_car.append(ocr_res[i][j][1])\n",
    "                ocr_list_ii[name]=ocr_per_car\n",
    "            \n",
    "\n",
    "    elif len(ext) == 3:\n",
    "        extempe = ext[2]\n",
    "        if name == '.DS_Store':\n",
    "            pass\n",
    "        elif extempe != 'xml' :\n",
    "            pathe='/Users/sharath/Desktop/TFODCourse/licence label/indian plates'+'/'+name\n",
    "            image,detections = pred(pathe)\n",
    "            scores = list(filter(lambda x : x > detection_threshold,detections['detection_scores']))\n",
    "            boxes = detections['detection_boxes'][:len(scores)]\n",
    "            classes = detections['detection_classes'][:len(scores)]\n",
    "            \n",
    "            width = image.shape[1]\n",
    "            height = image.shape[0]\n",
    "            ocr_res=[]\n",
    "            for idx,box in enumerate(boxes):\n",
    "                roi = box*[height,width,height,width]\n",
    "                thres = image[int(roi[0]):int(roi[2]),int(roi[1]):int(roi[3])]\n",
    "                temp = thres\n",
    "                thres = cv2.cvtColor(thres, cv2.COLOR_BGR2GRAY)\n",
    "                thres = thres.astype(np.uint8)\n",
    "                region = cv2.threshold(thres, 0, 255, cv2.THRESH_BINARY | cv2.THRESH_OTSU)[1]\n",
    "\n",
    "                #plt.imshow(region)\n",
    "                op = reader.readtext(thres,allowlist=string.ascii_uppercase + \"0123456789\")\n",
    "                ocr_res.append(op)\n",
    "                for i in range(0,len(ocr_res)):\n",
    "                    for j in range(0,len(ocr_res[i])):\n",
    "                        ocr_per_car.append(ocr_res[i][j][1])\n",
    "            ocr_list_ii[name]=ocr_per_car\n",
    "print(ocr_list_ii)"
   ]
  },
  {
   "cell_type": "code",
   "execution_count": 48,
   "id": "741eac69",
   "metadata": {},
   "outputs": [
    {
     "name": "stdout",
     "output_type": "stream",
     "text": [
      "72 72\n"
     ]
    }
   ],
   "source": [
    "print(len(ocr_list),len(ocr_list_ii))"
   ]
  },
  {
   "cell_type": "code",
   "execution_count": 27,
   "id": "a88b587d",
   "metadata": {},
   "outputs": [],
   "source": [
    "import csv\n",
    "import Levenshtein"
   ]
  },
  {
   "cell_type": "code",
   "execution_count": 28,
   "id": "58323dc2",
   "metadata": {},
   "outputs": [],
   "source": [
    "def concat(array):\n",
    "    word = ''\n",
    "    for i in range(0,len(array)):\n",
    "        if i ==0:\n",
    "            word = array[i]\n",
    "        else:\n",
    "            word=word+array[i]\n",
    "    return word\n",
    "\n",
    "def space_remove(string):\n",
    "    fin =''\n",
    "    for i in range(0,len(string)):\n",
    "        if string[i]==' ':\n",
    "            pass\n",
    "        else:\n",
    "            fin = fin + string[i]\n",
    "    return fin"
   ]
  },
  {
   "cell_type": "code",
   "execution_count": 52,
   "id": "3d6911e5",
   "metadata": {
    "scrolled": false
   },
   "outputs": [
    {
     "name": "stdout",
     "output_type": "stream",
     "text": [
      "correct! acc,ocr after applying indian plate rules : MH12NE8922 MH12NE8922\n",
      "correct! acc,ocr after applying indian plate rules : TN21BC6225 TN21BC6225\n",
      "incorrect! acc,ocr after applying indian plate rules : MH14GN9239 MH14CN9239\n",
      "correct! acc,ocr after applying indian plate rules : HR26CE1485 HR26CE1485\n",
      "incorrect! acc,ocr after applying indian plate rules : HR26BU0380 HR26BU0280\n",
      "correct! acc,ocr : KL65H4383 ['KL65H4383']\n",
      "incorrect! acc,ocr after applying indian plate rules : MH01AE8017 MH04AE8012\n",
      "incorrect! acc,ocr after applying indian plate rules : MH14DX9937 MH14OX9937\n",
      "correct! acc,ocr : TN21BZ0768 ['TN21BZ0768']\n",
      "incorrect! acc,ocr after applying indian plate rules : UP16TC1366 UP18TC13EC\n",
      "incorrect! acc,ocr after applying indian plate rules : KA05MG1909 KA05NG1909\n",
      "incorrect! acc,ocr after applying indian plate rules : CH01AN0001 CH04AN0004\n",
      "correct! acc,ocr : MH47A7313 ['MH47A7313']\n",
      "incorrect! acc,ocr after applying indian plate rules : MH01BB550 MH01BB4550\n",
      "incorrect! acc,ocr after applying indian plate rules : DL3CBF3907 DL5CBF3907\n",
      "incorrect! acc,ocr after applying indian plate rules : KA03MK834 KA03JN0HK8\n",
      "incorrect! acc,ocr after applying indian plate rules : TN01BB5959 TN016E7159\n",
      "correct! acc,ocr : HR26BC5514 ['HR26BC5514']\n",
      "incorrect! acc,ocr after applying indian plate rules : DL1CQ6477 DL1CO6477\n",
      "correct! acc,ocr : MH20EE7598 ['MH20EE7598']\n",
      "incorrect! acc,ocr after applying indian plate rules : KA13N7974 ISN7974DKA\n",
      "correct! acc,ocr : KA05NB1786 ['KA05NB1786']\n",
      "correct! acc,ocr : MH20EE7598 ['MH20EE7598']\n",
      "incorrect! acc,ocr after applying indian plate rules : KL01CA2555 KL61CA2555\n",
      "correct! acc,ocr : DL7CN5617 ['DL7CN5617']\n",
      "correct! acc,ocr after applying indian plate rules : DL2FFY0001 DL2FFY0001\n",
      "incorrect! acc,ocr after applying indian plate rules : KL01CC50 KL04CC50KL\n",
      "incorrect! acc,ocr after applying indian plate rules : HR26CU6799 FR26CU6799\n",
      "incorrect! acc,ocr after applying indian plate rules : GJ07BR1336 6JJOZBRIDT\n",
      "incorrect! acc,ocr after applying indian plate rules : TN37CS9005 KA37C59005\n",
      "correct! acc,ocr after applying indian plate rules : TS08ER1643 TS08ER1643\n",
      "incorrect! acc,ocr after applying indian plate rules : WB06F5977 5977HB06IN\n",
      "incorrect! acc,ocr after applying indian plate rules : UP14CC6162 CC162URJ6\n",
      "incorrect! acc,ocr after applying indian plate rules : MH12DE1433 MH11I2DE14\n",
      "correct! acc,ocr after applying indian plate rules : KL54A2670 KL54A2670\n",
      "correct! acc,ocr : TN99F2378 ['TN99F2378']\n",
      "incorrect! acc,ocr after applying indian plate rules : KA05MG1909 KA05NG1909\n",
      "correct! acc,ocr after applying indian plate rules : CH02AA1936 CH02AA1936\n",
      "incorrect! acc,ocr after applying indian plate rules : TN58AU1000 TN58AV1000\n",
      "correct! acc,ocr after applying indian plate rules : UP32LF1607 UP32LF1607\n",
      "correct! acc,ocr after applying indian plate rules : DL8CAT7434 DL8CAT7434\n",
      "correct! acc,ocr : HR26BR9044 ['HR26BR9044']\n",
      "correct! acc,ocr after applying indian plate rules : TN37CS2765 TN37CS2765\n",
      "incorrect! acc,ocr after applying indian plate rules : DL3CAK2468 DL15662468\n",
      "correct! acc,ocr : AP05DP5666 FGJ03JL01261\n",
      "incorrect! acc,ocr after applying indian plate rules : TN38BP3684 TN38S23624\n",
      "incorrect! acc,ocr after applying indian plate rules : KA05MG1909 EBHPKA05MG\n",
      "incorrect! acc,ocr after applying indian plate rules : HR26DQ5551 HR26DO5551\n",
      "incorrect! acc,ocr after applying indian plate rules : RJ14TA5958 RJMIA5458\n",
      "correct! acc,ocr : KA04MP3867 ['O097', 'KA04MP3867']\n",
      "correct! acc,ocr : MH20DV2363 ['MH20DV2363']\n",
      "incorrect! acc,ocr after applying indian plate rules : DL1TAH5599 DL11AH5599\n",
      "correct! acc,ocr after applying indian plate rules : MH15BD8877 MH15BD8877\n",
      "correct! acc,ocr : HR26BC5514 ['HR26BC5514']\n",
      "correct! acc,ocr after applying indian plate rules : DL5CF6171 DL5CF6171\n",
      "correct! acc,ocr : MH20EJ0364 ['MH20EJ0364', 'MH20EJ0364', 'F']\n",
      "incorrect! acc,ocr after applying indian plate rules : KL04AL2300 KL04AL2200\n",
      "correct! acc,ocr : DL8CX4850 ['DL8CX4850']\n",
      "incorrect! acc,ocr after applying indian plate rules : MG14BN7077 MH14BN7077\n",
      "correct! acc,ocr : TN99F2378 ['TN99F2378']\n",
      "incorrect! acc,ocr after applying indian plate rules : KA03MG2784 KA03MGH278\n",
      "incorrect! acc,ocr after applying indian plate rules : MH20BQ20 MH20BO2084\n",
      "incorrect! acc,ocr after applying indian plate rules : MH20BQ20 MH20BO2084\n",
      "correct! acc,ocr : DL49AK49 FGJ03JL01261\n",
      "correct! acc,ocr after applying indian plate rules : KA03AB3380 KA03AB3380\n",
      "correct! acc,ocr after applying indian plate rules : HR26AZ5927 HR26AZ5927\n",
      "correct! acc,ocr : HR26EA0137 ['HR26EA0137']\n",
      "correct! acc,ocr after applying indian plate rules : GJ03JL0126 GJ03JL0126\n",
      "correct ocr op without threshold :  34 / 68\n"
     ]
    }
   ],
   "source": [
    "with open('Indian_licence_label.csv', 'r') as file:\n",
    "    reader = csv.reader(file)\n",
    "    positive_cases=0\n",
    "    tot = 0\n",
    "    crct_list=[]\n",
    "    for row in reader:\n",
    "        if row[0] == 'filename':\n",
    "            pass\n",
    "        else:\n",
    "            try:\n",
    "                l=list(row[3])\n",
    "                fin = space_remove(l)\n",
    "                img_name = row[0]\n",
    "                plate=ocr_list[img_name]\n",
    "                plate_con = concat(plate)\n",
    "                plateee = indian_rule(plate)\n",
    "                if fin in plate:\n",
    "                    print('correct! acc,ocr :', row[3],plate)\n",
    "                    positive_cases+=1\n",
    "                    crct_list.append(1)\n",
    "                elif row[3] == plate_con:\n",
    "                    print('correct! acc,ocr :', row[3],palte)\n",
    "                    positive_cases+=1\n",
    "                    crct_list.append(1)\n",
    "                elif row[3] == plateee:\n",
    "                    print('correct! acc,ocr after applying indian plate rules :', row[3],plateee)\n",
    "                    positive_cases+=1\n",
    "                    crct_list.append(1)\n",
    "                else:\n",
    "                    print('incorrect! acc,ocr after applying indian plate rules :',row[3],plateee)\n",
    "                    crct_list.append(0)\n",
    "                tot+=1\n",
    "            except:\n",
    "                pass\n",
    "        \n",
    "print('correct ocr op without threshold : ',positive_cases,'/',tot)"
   ]
  },
  {
   "cell_type": "code",
   "execution_count": 51,
   "id": "2c2843b3",
   "metadata": {},
   "outputs": [
    {
     "name": "stdout",
     "output_type": "stream",
     "text": [
      "correct! acc,ocr after applying indian plate rules : MH12NE8922 MH12NE8922\n",
      "correct! acc,ocr after applying indian plate rules : TN21BC6225 TN21BC6225\n",
      "incorrect! acc,ocr after applying indian plate rules  : MH14GN9239 MH14\n",
      "correct! acc,ocr after applying indian plate rules : HR26CE1485 HR26CE1485\n",
      "correct! acc,ocr : HR26BU0380 ['HR26BU0380']\n",
      "correct! acc,ocr : KL65H4383 ['KL65H4383']\n",
      "incorrect! acc,ocr after applying indian plate rules  : MH01AE8017 MH04AE8012\n",
      "incorrect! acc,ocr after applying indian plate rules  : MH14DX9937 AO41AOX993\n",
      "correct! acc,ocr : TN21BZ0768 ['TN21BZ0768']\n",
      "incorrect! acc,ocr after applying indian plate rules  : UP16TC1366 UP16TC13EC\n",
      "incorrect! acc,ocr after applying indian plate rules  : KA05MG1909 KA\n",
      "incorrect! acc,ocr after applying indian plate rules  : CH01AN0001 CH04AN0004\n",
      "correct! acc,ocr : MH47A7313 ['MH47A7313']\n",
      "incorrect! acc,ocr after applying indian plate rules  : MH01BB550 MH01BB4550\n",
      "incorrect! acc,ocr after applying indian plate rules  : DL3CBF3907 IND\n",
      "incorrect! acc,ocr after applying indian plate rules  : KA03MK834 KO3\n",
      "incorrect! acc,ocr after applying indian plate rules  : TN01BB5959 TN01601595\n",
      "correct! acc,ocr after applying indian plate rules : HR26BC5514 HR26BC5514\n",
      "incorrect! acc,ocr after applying indian plate rules  : DL1CQ6477 DL1CO6477\n",
      "correct! acc,ocr : MH20EE7598 ['MH20EE7598']\n",
      "incorrect! acc,ocr after applying indian plate rules  : KA13N7974 WK41SN7972\n",
      "correct! acc,ocr : KA05NB1786 ['KA05NB1786']\n",
      "correct! acc,ocr : MH20EE7598 ['MH20EE7598']\n",
      "incorrect! acc,ocr after applying indian plate rules  : KL01CA2555 KL61CA2555\n",
      "correct! acc,ocr : DL7CN5617 ['DL7CN5617']\n",
      "correct! acc,ocr after applying indian plate rules : DL2FFY0001 DL2FFY0001\n",
      "incorrect! acc,ocr after applying indian plate rules  : KL01CC50 KL01CC503\n",
      "incorrect! acc,ocr after applying indian plate rules  : HR26CU6799 FR26CU6799\n",
      "incorrect! acc,ocr after applying indian plate rules  : GJ07BR1336 ND\n",
      "incorrect! acc,ocr after applying indian plate rules  : TN37CS9005 KA37CS9005\n",
      "incorrect! acc,ocr after applying indian plate rules  : TS08ER1643 ND\n",
      "incorrect! acc,ocr after applying indian plate rules  : UP14CC6162 CC\n",
      "incorrect! acc,ocr after applying indian plate rules  : MH12DE1433 MHI\n",
      "correct! acc,ocr after applying indian plate rules : KL54A2670 KL54A2670\n",
      "correct! acc,ocr : TN99F2378 ['TN99F2378']\n",
      "incorrect! acc,ocr after applying indian plate rules  : KA05MG1909 KA\n",
      "incorrect! acc,ocr after applying indian plate rules  : CH02AA1936 IND\n",
      "incorrect! acc,ocr after applying indian plate rules  : TN58AU1000 TN\n",
      "correct! acc,ocr after applying indian plate rules : UP32LF1607 UP32LF1607\n",
      "incorrect! acc,ocr after applying indian plate rules  : DL8CAT7434 IIND\n",
      "correct! acc,ocr after applying indian plate rules : HR26BR9044 HR26BR9044\n",
      "incorrect! acc,ocr after applying indian plate rules  : TN37CS2765 TN37CS\n",
      "incorrect! acc,ocr after applying indian plate rules  : DL3CAK2468 DL15\n",
      "correct! acc,ocr : AP05DP5666 FGJ03JL01261\n",
      "incorrect! acc,ocr after applying indian plate rules  : TN38BP3684 TN38S23624\n",
      "incorrect! acc,ocr after applying indian plate rules  : HR26DQ5551 IND\n",
      "incorrect! acc,ocr after applying indian plate rules  : RJ14TA5958 KA59SB\n",
      "incorrect! acc,ocr after applying indian plate rules  : KA04MP3867 OO93\n",
      "correct! acc,ocr : MH20DV2363 ['MH20DV2363']\n",
      "correct! acc,ocr : DL1TAH5599 FGJ03JL01261\n",
      "correct! acc,ocr : MH15BD8877 ['MH15BD8877']\n",
      "correct! acc,ocr : HR26BC5514 ['HR26BC5514']\n",
      "incorrect! acc,ocr after applying indian plate rules  : DL5CF6171 DL5C\n",
      "correct! acc,ocr : MH20EJ0364 ['MH20EJ0364', 'MH20EJ0364', 'ME']\n",
      "incorrect! acc,ocr after applying indian plate rules  : KL04AL2300 ML04AL2200\n",
      "correct! acc,ocr : DL8CX4850 ['DL8CX4850']\n",
      "incorrect! acc,ocr after applying indian plate rules  : MG14BN7077 MH14BN7077\n",
      "correct! acc,ocr : TN99F2378 ['TN99F2378']\n",
      "correct! acc,ocr : KA03MG2784 FGJ03JL01261\n",
      "incorrect! acc,ocr after applying indian plate rules  : MH20BQ20 MH20BO20\n",
      "incorrect! acc,ocr after applying indian plate rules  : MH20BQ20 MH20BO20\n",
      "correct! acc,ocr : DL49AK49 ['DL49AK49']\n",
      "incorrect! acc,ocr after applying indian plate rules  : KA03AB3380 KA03AB1338\n",
      "incorrect! acc,ocr after applying indian plate rules  : HR26AZ5927 HR26AZ\n",
      "correct! acc,ocr : HR26EA0137 ['HR26EA0137']\n",
      "correct! acc,ocr after applying indian plate rules : GJ03JL0126 GJ03JL0126\n",
      "correct ocr op with threshold :  29 / 66\n"
     ]
    }
   ],
   "source": [
    "with open('Indian_licence_label.csv', 'r') as file:\n",
    "    reader = csv.reader(file)\n",
    "    positive_cases=0\n",
    "    tot = 0\n",
    "    crct_thres=[]\n",
    "    for row in reader:\n",
    "        if row[0] == 'filename':\n",
    "            pass\n",
    "        else:\n",
    "            try:\n",
    "                l=list(row[3])\n",
    "                fin = space_remove(l)\n",
    "                img_name = row[0]\n",
    "                plate=ocr_list_ii[img_name]\n",
    "                plate_con = concat(plate)\n",
    "                plateee = indian_rule(plate[0])\n",
    "                if fin in plate:\n",
    "                    print('correct! acc,ocr :', row[3],plate)\n",
    "                    positive_cases+=1\n",
    "                    crct_thres.append(1)\n",
    "                elif row[3] == plate_con:\n",
    "                    print('correct! acc,ocr :', row[3],palte)\n",
    "                    positive_cases+=1\n",
    "                    crct_thres.append(1)\n",
    "                elif row[3] == plateee:\n",
    "                    print('correct! acc,ocr after applying indian plate rules :', row[3],plateee)\n",
    "                    positive_cases+=1\n",
    "                    crct_thres.append(1)\n",
    "                else:\n",
    "                    print('incorrect! acc,ocr after applying indian plate rules  :',row[3],plateee)\n",
    "                    crct_thres.append(0)\n",
    "                tot+=1\n",
    "            except:\n",
    "                pass\n",
    "        \n",
    "print('correct ocr op with threshold : ',positive_cases,'/',tot)"
   ]
  },
  {
   "cell_type": "code",
   "execution_count": 43,
   "id": "27ade362",
   "metadata": {},
   "outputs": [
    {
     "name": "stdout",
     "output_type": "stream",
     "text": [
      "total correct outputs generated in both the methods 40 / 66\n"
     ]
    }
   ],
   "source": [
    "final=[]\n",
    "total=0\n",
    "for i in range(0,66):\n",
    "    if crct_thres[i] == 1 and crct_list[i] == 1:\n",
    "        final.append(1)\n",
    "    elif crct_thres[i] > crct_list[i] or crct_thres[i] < crct_list[i]:\n",
    "        final.append(1)\n",
    "    else:\n",
    "        final.append(0)\n",
    "\n",
    "for i in range(0,66):\n",
    "    if final[i] == 1:\n",
    "        total+=1\n",
    "print('total correct outputs generated in both the methods', total,'/',tot)"
   ]
  },
  {
   "cell_type": "code",
   "execution_count": 11,
   "id": "e9eeed86",
   "metadata": {},
   "outputs": [],
   "source": [
    "import tkinter as tk\n",
    "from tkinter import ttk,Label,Canvas,Text\n",
    "from tkinter import filedialog as fd\n",
    "from PIL import Image, ImageTk\n"
   ]
  },
  {
   "cell_type": "code",
   "execution_count": 12,
   "id": "c8909751",
   "metadata": {},
   "outputs": [
    {
     "name": "stderr",
     "output_type": "stream",
     "text": [
      "CUDA not available - defaulting to CPU. Note: This module is much faster with a GPU.\n"
     ]
    }
   ],
   "source": [
    "reader = easyocr.Reader(['en'])\n",
    "detection_threshold = 0.9\n",
    "def ocre(image,detections):\n",
    "    scores = list(filter(lambda x : x > detection_threshold,detections['detection_scores']))\n",
    "    boxes = detections['detection_boxes'][:len(scores)]\n",
    "    classes = detections['detection_classes'][:len(scores)]\n",
    "    \n",
    "    width = image.shape[1]\n",
    "    height = image.shape[0]\n",
    "    \n",
    "    for idx,box in enumerate(boxes):\n",
    "        roi = box*[height,width,height,width]\n",
    "        thres = image[int(roi[0]):int(roi[2]),int(roi[1]):int(roi[3])]\n",
    "        thres = cv2.cvtColor(thres, cv2.COLOR_BGR2GRAY)\n",
    "        thres = thres.astype(np.uint8)\n",
    "        region = cv2.adaptiveThreshold(thres,190,cv2.ADAPTIVE_THRESH_GAUSSIAN_C,cv2.THRESH_BINARY,19,4)\n",
    "        #plt.imshow(region)\n",
    "        ocr_res = reader.readtext(region,allowlist=string.ascii_uppercase + \"0123456789\")\n",
    "        return ocr_res"
   ]
  },
  {
   "cell_type": "code",
   "execution_count": 17,
   "id": "681b1123",
   "metadata": {},
   "outputs": [],
   "source": [
    "root = tk.Tk()\n",
    "root.title('LPR')\n",
    "root.resizable(1000,1000)\n",
    "root['background']=\"#4c0099\"\n",
    "root.geometry('700x700')\n",
    "\n",
    "def selected_file():\n",
    "    filetype=(('jpg files','*.jpg'),('png files','*.png'))\n",
    "    filename = fd.askopenfilename(title = 'select the file',filetypes = filetype)\n",
    "    img,flag= pred(filename)\n",
    "    ocr_res = ocre(img,flag)\n",
    "    im = Image.fromarray(img)\n",
    "    imgtk = ImageTk.PhotoImage(image=im)\n",
    "    imge = Label(root, image=imgtk)\n",
    "    imge.image = imgtk\n",
    "    imge.place(x=150, y=200)\n",
    "    for i in range(0,len(ocr_res)):\n",
    "        a='licence plate number : '+ ocr_res[i][1]\n",
    "        text.insert('1.0', a)\n",
    "text = Text(root, height=8)\n",
    "text.pack()\n",
    "open_button = ttk.Button(root,text='Select the image',command=selected_file)\n",
    "\n",
    "open_button.pack(expand=True)\n",
    "\n",
    "root.mainloop()"
   ]
  },
  {
   "cell_type": "code",
   "execution_count": null,
   "id": "b0f9a688",
   "metadata": {},
   "outputs": [],
   "source": []
  }
 ],
 "metadata": {
  "kernelspec": {
   "display_name": "Python 3 (ipykernel)",
   "language": "python",
   "name": "python3"
  },
  "language_info": {
   "codemirror_mode": {
    "name": "ipython",
    "version": 3
   },
   "file_extension": ".py",
   "mimetype": "text/x-python",
   "name": "python",
   "nbconvert_exporter": "python",
   "pygments_lexer": "ipython3",
   "version": "3.9.1"
  }
 },
 "nbformat": 4,
 "nbformat_minor": 5
}
